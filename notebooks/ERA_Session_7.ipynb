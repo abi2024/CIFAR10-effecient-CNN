{
  "nbformat": 4,
  "nbformat_minor": 0,
  "metadata": {
    "colab": {
      "provenance": [],
      "gpuType": "T4"
    },
    "kernelspec": {
      "name": "python3",
      "display_name": "Python 3"
    },
    "language_info": {
      "name": "python"
    },
    "accelerator": "GPU"
  },
  "cells": [
    {
      "cell_type": "code",
      "source": [
        "# Cell 1: Complete Setup for Google Colab\n",
        "!pip install torch torchvision albumentations torchsummary -q\n",
        "\n",
        "import torch\n",
        "import torch.nn as nn\n",
        "import torch.nn.functional as F\n",
        "import torch.optim as optim\n",
        "from torch.optim.lr_scheduler import OneCycleLR\n",
        "from torch.utils.data import DataLoader, Dataset\n",
        "\n",
        "import torchvision\n",
        "import torchvision.transforms as transforms\n",
        "from torchsummary import summary\n",
        "\n",
        "import albumentations as A\n",
        "from albumentations.pytorch import ToTensorV2\n",
        "\n",
        "import numpy as np\n",
        "import matplotlib.pyplot as plt\n",
        "from tqdm import tqdm\n",
        "import time\n",
        "from collections import defaultdict\n",
        "\n",
        "# Set device\n",
        "device = torch.device('cuda' if torch.cuda.is_available() else 'cpu')\n",
        "print(f\"Using device: {device}\")\n",
        "if torch.cuda.is_available():\n",
        "    print(f\"GPU: {torch.cuda.get_device_name(0)}\")\n",
        "\n",
        "# Set random seeds for reproducibility\n",
        "torch.manual_seed(1)\n",
        "np.random.seed(1)\n",
        "if torch.cuda.is_available():\n",
        "    torch.cuda.manual_seed(1)\n",
        "    torch.backends.cudnn.deterministic = True"
      ],
      "metadata": {
        "colab": {
          "base_uri": "https://localhost:8080/"
        },
        "id": "uRAJkVzttinR",
        "outputId": "b12f95b3-9638-49a4-a3ec-a3d0f4730768"
      },
      "execution_count": 16,
      "outputs": [
        {
          "output_type": "stream",
          "name": "stdout",
          "text": [
            "Using device: cuda\n",
            "GPU: Tesla T4\n"
          ]
        }
      ]
    },
    {
      "cell_type": "code",
      "source": [
        "# Cell 2: Calculate CIFAR-10 Mean and Std\n",
        "def calculate_cifar10_stats():\n",
        "    \"\"\"\n",
        "    Calculate the mean and std of CIFAR-10 dataset\n",
        "    \"\"\"\n",
        "    print(\"Calculating CIFAR-10 dataset statistics...\")\n",
        "\n",
        "    # Download CIFAR-10 training data\n",
        "    dataset = torchvision.datasets.CIFAR10(\n",
        "        root='./data',\n",
        "        train=True,\n",
        "        download=True,\n",
        "        transform=transforms.ToTensor()\n",
        "    )\n",
        "\n",
        "    # Use DataLoader to calculate stats\n",
        "    dataloader = DataLoader(dataset, batch_size=100, shuffle=False, num_workers=2)\n",
        "\n",
        "    mean = torch.zeros(3)\n",
        "    std = torch.zeros(3)\n",
        "    total_samples = 0\n",
        "\n",
        "    for data, _ in tqdm(dataloader, desc=\"Computing stats\"):\n",
        "        batch_samples = data.size(0)\n",
        "        data = data.view(batch_samples, data.size(1), -1)\n",
        "        mean += data.mean(2).sum(0)\n",
        "        std += data.std(2).sum(0)\n",
        "        total_samples += batch_samples\n",
        "\n",
        "    mean /= total_samples\n",
        "    std /= total_samples\n",
        "\n",
        "    print(f\"Mean: {mean}\")\n",
        "    print(f\"Std: {std}\")\n",
        "\n",
        "    return mean.tolist(), std.tolist()\n",
        "\n",
        "# Calculate or use pre-computed values\n",
        "USE_PRECOMPUTED = True  # Set to False to recalculate\n",
        "\n",
        "if USE_PRECOMPUTED:\n",
        "    # Pre-computed CIFAR-10 statistics\n",
        "    CIFAR10_MEAN = (0.4914, 0.4822, 0.4465)\n",
        "    CIFAR10_STD = (0.2470, 0.2435, 0.2616)\n",
        "    print(f\"Using pre-computed stats:\")\n",
        "    print(f\"Mean: {CIFAR10_MEAN}\")\n",
        "    print(f\"Std: {CIFAR10_STD}\")\n",
        "else:\n",
        "    CIFAR10_MEAN, CIFAR10_STD = calculate_cifar10_stats()"
      ],
      "metadata": {
        "colab": {
          "base_uri": "https://localhost:8080/"
        },
        "id": "9p5KrLcHtnwy",
        "outputId": "851f878e-fbf4-4093-b253-ff4c9ce5e642"
      },
      "execution_count": 17,
      "outputs": [
        {
          "output_type": "stream",
          "name": "stdout",
          "text": [
            "Using pre-computed stats:\n",
            "Mean: (0.4914, 0.4822, 0.4465)\n",
            "Std: (0.247, 0.2435, 0.2616)\n"
          ]
        }
      ]
    },
    {
      "cell_type": "code",
      "source": [
        "# Cell 3: Custom Dataset Class for Albumentations\n",
        "class CIFAR10AlbumentationsDataset(Dataset):\n",
        "    \"\"\"\n",
        "    Custom CIFAR-10 Dataset that uses Albumentations for transforms\n",
        "    \"\"\"\n",
        "    def __init__(self, image_list, label_list, transforms=None):\n",
        "        self.images = image_list\n",
        "        self.labels = label_list\n",
        "        self.transforms = transforms\n",
        "\n",
        "    def __len__(self):\n",
        "        return len(self.images)\n",
        "\n",
        "    def __getitem__(self, index):\n",
        "        # Get image and label\n",
        "        image = self.images[index]\n",
        "        label = self.labels[index]\n",
        "\n",
        "        # Apply transforms\n",
        "        if self.transforms:\n",
        "            augmented = self.transforms(image=image)\n",
        "            image = augmented['image']\n",
        "\n",
        "        return image, label"
      ],
      "metadata": {
        "id": "jZTVj7rVtvrb"
      },
      "execution_count": 18,
      "outputs": []
    },
    {
      "cell_type": "code",
      "source": [
        "# Cell 4: Define Augmentation Transforms (Requirements #7)\n",
        "def get_train_transforms():\n",
        "    \"\"\"\n",
        "    Training augmentations as per requirements:\n",
        "    1. Horizontal flip\n",
        "    2. ShiftScaleRotate\n",
        "    3. CoarseDropout\n",
        "    \"\"\"\n",
        "    return A.Compose([\n",
        "        # Requirement 7.1: Horizontal Flip\n",
        "        A.HorizontalFlip(p=0.5),\n",
        "\n",
        "        # Requirement 7.2: ShiftScaleRotate\n",
        "        A.ShiftScaleRotate(\n",
        "            shift_limit=0.1,     # Max 10% shift\n",
        "            scale_limit=0.1,     # Max 10% scale\n",
        "            rotate_limit=15,     # Max 15 degree rotation\n",
        "            interpolation=1,     # Linear interpolation\n",
        "            border_mode=4,       # Reflect padding\n",
        "            p=0.5\n",
        "        ),\n",
        "\n",
        "        # Requirement 7.3: CoarseDropout (similar to Cutout)\n",
        "        A.CoarseDropout(\n",
        "            max_holes=1,\n",
        "            max_height=16,\n",
        "            max_width=16,\n",
        "            min_holes=1,\n",
        "            min_height=16,\n",
        "            min_width=16,\n",
        "            fill_value=CIFAR10_MEAN,  # Fill with mean of dataset\n",
        "            mask_fill_value=None,\n",
        "            p=0.5\n",
        "        ),\n",
        "\n",
        "        # Normalize with CIFAR-10 statistics\n",
        "        A.Normalize(\n",
        "            mean=CIFAR10_MEAN,\n",
        "            std=CIFAR10_STD,\n",
        "        ),\n",
        "\n",
        "        # Convert to PyTorch tensor\n",
        "        ToTensorV2()\n",
        "    ])\n",
        "\n",
        "def get_test_transforms():\n",
        "    \"\"\"\n",
        "    Test transforms - only normalization\n",
        "    \"\"\"\n",
        "    return A.Compose([\n",
        "        A.Normalize(\n",
        "            mean=CIFAR10_MEAN,\n",
        "            std=CIFAR10_STD,\n",
        "        ),\n",
        "        ToTensorV2()\n",
        "    ])\n",
        "\n",
        "# Create transforms\n",
        "train_transforms = get_train_transforms()\n",
        "test_transforms = get_test_transforms()\n",
        "\n",
        "print(\"✅ Augmentation pipelines created!\")"
      ],
      "metadata": {
        "colab": {
          "base_uri": "https://localhost:8080/"
        },
        "id": "EIdphP87tyDn",
        "outputId": "d46a0a6a-7233-4680-b01c-2ccb086b19d6"
      },
      "execution_count": 19,
      "outputs": [
        {
          "output_type": "stream",
          "name": "stdout",
          "text": [
            "✅ Augmentation pipelines created!\n"
          ]
        },
        {
          "output_type": "stream",
          "name": "stderr",
          "text": [
            "/tmp/ipython-input-3788047767.py:24: UserWarning: Argument(s) 'max_holes, max_height, max_width, min_holes, min_height, min_width, fill_value, mask_fill_value' are not valid for transform CoarseDropout\n",
            "  A.CoarseDropout(\n"
          ]
        }
      ]
    },
    {
      "cell_type": "code",
      "source": [
        "# Cell 5: Create DataLoaders\n",
        "def create_dataloaders(batch_size=128, num_workers=2):\n",
        "    \"\"\"\n",
        "    Create train and test dataloaders for CIFAR-10\n",
        "    \"\"\"\n",
        "    print(\"Loading CIFAR-10 dataset...\")\n",
        "\n",
        "    # Download and load the raw data\n",
        "    train_dataset = torchvision.datasets.CIFAR10(\n",
        "        root='./data',\n",
        "        train=True,\n",
        "        download=True\n",
        "    )\n",
        "\n",
        "    test_dataset = torchvision.datasets.CIFAR10(\n",
        "        root='./data',\n",
        "        train=False,\n",
        "        download=True\n",
        "    )\n",
        "\n",
        "    # Convert to numpy arrays for Albumentations\n",
        "    train_images = train_dataset.data  # Already numpy array\n",
        "    train_labels = train_dataset.targets\n",
        "\n",
        "    test_images = test_dataset.data\n",
        "    test_labels = test_dataset.targets\n",
        "\n",
        "    print(f\"Training samples: {len(train_images)}\")\n",
        "    print(f\"Test samples: {len(test_images)}\")\n",
        "    print(f\"Image shape: {train_images[0].shape}\")\n",
        "    print(f\"Number of classes: {len(set(train_labels))}\")\n",
        "\n",
        "    # Create custom datasets with augmentations\n",
        "    train_dataset_aug = CIFAR10AlbumentationsDataset(\n",
        "        train_images,\n",
        "        train_labels,\n",
        "        train_transforms\n",
        "    )\n",
        "\n",
        "    test_dataset_aug = CIFAR10AlbumentationsDataset(\n",
        "        test_images,\n",
        "        test_labels,\n",
        "        test_transforms\n",
        "    )\n",
        "\n",
        "    # Create dataloaders\n",
        "    train_loader = DataLoader(\n",
        "        train_dataset_aug,\n",
        "        batch_size=batch_size,\n",
        "        shuffle=True,\n",
        "        num_workers=num_workers,\n",
        "        pin_memory=True\n",
        "    )\n",
        "\n",
        "    test_loader = DataLoader(\n",
        "        test_dataset_aug,\n",
        "        batch_size=batch_size,\n",
        "        shuffle=False,\n",
        "        num_workers=num_workers,\n",
        "        pin_memory=True\n",
        "    )\n",
        "\n",
        "    return train_loader, test_loader\n",
        "\n",
        "# Create the dataloaders\n",
        "BATCH_SIZE = 128\n",
        "train_loader, test_loader = create_dataloaders(batch_size=BATCH_SIZE)\n",
        "\n",
        "print(f\"\\n✅ DataLoaders created!\")\n",
        "print(f\"Training batches: {len(train_loader)}\")\n",
        "print(f\"Test batches: {len(test_loader)}\")"
      ],
      "metadata": {
        "colab": {
          "base_uri": "https://localhost:8080/"
        },
        "id": "_imaK8C0tzzX",
        "outputId": "1c88657f-6db1-4b54-db72-4287a2237864"
      },
      "execution_count": 20,
      "outputs": [
        {
          "output_type": "stream",
          "name": "stdout",
          "text": [
            "Loading CIFAR-10 dataset...\n",
            "Training samples: 50000\n",
            "Test samples: 10000\n",
            "Image shape: (32, 32, 3)\n",
            "Number of classes: 10\n",
            "\n",
            "✅ DataLoaders created!\n",
            "Training batches: 391\n",
            "Test batches: 79\n"
          ]
        }
      ]
    },
    {
      "cell_type": "code",
      "source": [
        "# Cell 6: Visualize Augmentations\n",
        "def visualize_augmentations(train_loader, num_samples=8):\n",
        "    \"\"\"\n",
        "    Visualize original and augmented images\n",
        "    \"\"\"\n",
        "    # Get CIFAR-10 class names\n",
        "    classes = ['airplane', 'automobile', 'bird', 'cat', 'deer',\n",
        "               'dog', 'frog', 'horse', 'ship', 'truck']\n",
        "\n",
        "    # Load some original images\n",
        "    dataset_original = torchvision.datasets.CIFAR10(\n",
        "        root='./data', train=True, download=False\n",
        "    )\n",
        "\n",
        "    # Create figure\n",
        "    fig, axes = plt.subplots(3, num_samples, figsize=(num_samples*2, 6))\n",
        "\n",
        "    # Original images\n",
        "    for i in range(num_samples):\n",
        "        img, label = dataset_original[i]\n",
        "        axes[0, i].imshow(img)\n",
        "        axes[0, i].set_title(f'{classes[label]}', fontsize=10)\n",
        "        axes[0, i].axis('off')\n",
        "        if i == 0:\n",
        "            axes[0, i].set_ylabel('Original', fontsize=12)\n",
        "\n",
        "    # Get augmented images\n",
        "    augmented_transforms = A.Compose([\n",
        "        A.HorizontalFlip(p=0.5),\n",
        "        A.ShiftScaleRotate(shift_limit=0.1, scale_limit=0.1, rotate_limit=15, p=0.7),\n",
        "        A.CoarseDropout(\n",
        "            max_holes=1, max_height=16, max_width=16,\n",
        "            min_holes=1, min_height=16, min_width=16,\n",
        "            fill_value=CIFAR10_MEAN, p=0.7\n",
        "        )\n",
        "    ])\n",
        "\n",
        "    # Apply augmentations twice for comparison\n",
        "    for row in range(1, 3):\n",
        "        for i in range(num_samples):\n",
        "            img = dataset_original.data[i]\n",
        "            augmented = augmented_transforms(image=img)['image']\n",
        "            axes[row, i].imshow(augmented)\n",
        "            axes[row, i].axis('off')\n",
        "            if i == 0:\n",
        "                axes[row, i].set_ylabel(f'Augmented {row}', fontsize=12)\n",
        "\n",
        "    plt.suptitle('CIFAR-10 Augmentation Examples', fontsize=14, y=1.02)\n",
        "    plt.tight_layout()\n",
        "    plt.show()\n",
        "\n",
        "# Visualize the augmentations\n",
        "visualize_augmentations(train_loader)"
      ],
      "metadata": {
        "colab": {
          "base_uri": "https://localhost:8080/",
          "height": 560
        },
        "id": "yAowv3lSt5-3",
        "outputId": "d0544468-04aa-400f-cb0e-0cc84d1ec726"
      },
      "execution_count": 21,
      "outputs": [
        {
          "output_type": "stream",
          "name": "stderr",
          "text": [
            "/tmp/ipython-input-2670504510.py:31: UserWarning: Argument(s) 'max_holes, max_height, max_width, min_holes, min_height, min_width, fill_value' are not valid for transform CoarseDropout\n",
            "  A.CoarseDropout(\n"
          ]
        },
        {
          "output_type": "display_data",
          "data": {
            "text/plain": [
              "<Figure size 1600x600 with 24 Axes>"
            ],
            "image/png": "[encoded data removed]"
          },
          "metadata": {}
        }
      ]
    },
    {
      "cell_type": "code",
      "source": [
        "import torch\n",
        "import torch.nn as nn\n",
        "import torch.nn.functional as F\n",
        "\n",
        "class CIFAR10Net(nn.Module):\n",
        "    \"\"\"\n",
        "    CIFAR-10 Classification Network\n",
        "\n",
        "    Architecture Overview:\n",
        "    - Input: 32x32x3 RGB images\n",
        "    - 4 Convolution blocks (C1, C2, C3, C4) as per requirements\n",
        "    - Uses Dilated Convolutions instead of MaxPooling (200 bonus points!)\n",
        "    - Total parameters: ~150k (under 200k limit)\n",
        "    - Receptive Field: >55 pixels (requirement: >44)\n",
        "    \"\"\"\n",
        "\n",
        "    def __init__(self):\n",
        "        super(CIFAR10Net, self).__init__()\n",
        "\n",
        "        # ==================== C1 BLOCK ====================\n",
        "        # Purpose: Extract low-level features (edges, colors, textures)\n",
        "        # Strategy: Use small channel counts to save parameters\n",
        "\n",
        "        # Layer 1: 3→10 channels (RGB input to 10 feature maps)\n",
        "        self.conv1 = nn.Conv2d(3, 10, kernel_size=3, padding=1, bias=False)\n",
        "        self.bn1 = nn.BatchNorm2d(10)  # Normalize to prevent gradient issues\n",
        "\n",
        "        # Layer 2: 10→10 channels (deepen network for better features)\n",
        "        self.conv2 = nn.Conv2d(10, 10, kernel_size=3, padding=1, bias=False)\n",
        "        self.bn2 = nn.BatchNorm2d(10)\n",
        "\n",
        "        # Layer 3: 10→16 channels (slightly increase capacity)\n",
        "        self.conv3 = nn.Conv2d(10, 16, kernel_size=3, padding=1, bias=False)\n",
        "        self.bn3 = nn.BatchNorm2d(16)\n",
        "        # After C1: RF=7, Size=32x32x16\n",
        "\n",
        "        # ==================== C2 BLOCK ====================\n",
        "        # Purpose: Efficient feature extraction using Depthwise Separable Convolutions\n",
        "        # Requirement #4: Must use Depthwise Separable Convolution\n",
        "        # Benefit: 8-9x fewer parameters than regular convolution\n",
        "\n",
        "        # First Depthwise Separable: 16→24 channels\n",
        "        # Step 1: Depthwise (each channel processed independently)\n",
        "        self.depthwise1 = nn.Conv2d(16, 16, kernel_size=3, padding=1, groups=16, bias=False)\n",
        "        self.bn4 = nn.BatchNorm2d(16)\n",
        "        # Step 2: Pointwise (1x1 conv to mix channels and expand to 24)\n",
        "        self.pointwise1 = nn.Conv2d(16, 24, kernel_size=1, bias=False)\n",
        "        self.bn5 = nn.BatchNorm2d(24)\n",
        "\n",
        "        # Second Depthwise Separable: 24→32 channels\n",
        "        # This adds more depth and features without many parameters\n",
        "        self.depthwise2 = nn.Conv2d(24, 24, kernel_size=3, padding=1, groups=24, bias=False)\n",
        "        self.bn6 = nn.BatchNorm2d(24)\n",
        "        self.pointwise2 = nn.Conv2d(24, 32, kernel_size=1, bias=False)\n",
        "        self.bn7 = nn.BatchNorm2d(32)\n",
        "        # After C2: RF=11, Size=32x32x32\n",
        "\n",
        "        # ==================== C3 BLOCK ====================\n",
        "        # Purpose: Expand receptive field dramatically using dilated convolutions\n",
        "        # Requirement #5: Must use Dilated Convolution\n",
        "        # Benefit: See wider context without losing resolution\n",
        "\n",
        "        # First Dilated Conv: dilation=2 (kernel sees every 2nd pixel)\n",
        "        # Using depthwise to save parameters\n",
        "        self.dilated1 = nn.Conv2d(32, 32, kernel_size=3, padding=2, dilation=2, groups=32, bias=False)\n",
        "        self.bn8 = nn.BatchNorm2d(32)\n",
        "        self.pointwise3 = nn.Conv2d(32, 40, kernel_size=1, bias=False)  # Expand to 40 channels\n",
        "        self.bn9 = nn.BatchNorm2d(40)\n",
        "\n",
        "        # Second Dilated Conv: dilation=4 (kernel sees every 4th pixel)\n",
        "        # This gives us a much larger receptive field\n",
        "        self.dilated2 = nn.Conv2d(40, 40, kernel_size=3, padding=4, dilation=4, groups=40, bias=False)\n",
        "        self.bn10 = nn.BatchNorm2d(40)\n",
        "        self.pointwise4 = nn.Conv2d(40, 48, kernel_size=1, bias=False)  # Expand to 48 channels\n",
        "        self.bn11 = nn.BatchNorm2d(48)\n",
        "\n",
        "        # Regular conv to consolidate dilated features\n",
        "        self.conv4 = nn.Conv2d(48, 56, kernel_size=3, padding=1, bias=False)\n",
        "        self.bn12 = nn.BatchNorm2d(56)\n",
        "        # After C3: RF=31, Size=32x32x56\n",
        "\n",
        "        # ==================== C4 BLOCK ====================\n",
        "        # Purpose: Final feature extraction with massive receptive field\n",
        "        # Requirement #2: No MaxPooling (use stride=2 instead)\n",
        "        # Strategy: Use extreme dilations then stride to reduce spatial size\n",
        "\n",
        "        # Extreme dilation=8 for huge receptive field\n",
        "        self.dilated3 = nn.Conv2d(56, 56, kernel_size=3, padding=8, dilation=8, groups=56, bias=False)\n",
        "        self.bn13 = nn.BatchNorm2d(56)\n",
        "        self.pointwise5 = nn.Conv2d(56, 64, kernel_size=1, bias=False)  # Expand to 64\n",
        "        self.bn14 = nn.BatchNorm2d(64)\n",
        "\n",
        "        # Another dilated conv with dilation=4\n",
        "        self.dilated4 = nn.Conv2d(64, 64, kernel_size=3, padding=4, dilation=4, groups=64, bias=False)\n",
        "        self.bn15 = nn.BatchNorm2d(64)\n",
        "        self.pointwise6 = nn.Conv2d(64, 72, kernel_size=1, bias=False)  # Expand to 72\n",
        "        self.bn16 = nn.BatchNorm2d(72)\n",
        "\n",
        "        # STRIDE=2 HERE: Replaces MaxPooling, reduces 32x32 → 16x16\n",
        "        self.conv5 = nn.Conv2d(72, 80, kernel_size=3, stride=2, padding=1, bias=False)\n",
        "        self.bn17 = nn.BatchNorm2d(80)\n",
        "        # After C4: RF>55, Size=16x16x80\n",
        "\n",
        "        # ==================== OUTPUT LAYERS ====================\n",
        "        # Requirement #6: Must use Global Average Pooling (GAP)\n",
        "\n",
        "        # GAP: Averages each 16x16 channel to 1x1\n",
        "        # This is much more efficient than flattening (saves ~200k parameters!)\n",
        "        self.gap = nn.AdaptiveAvgPool2d(1)  # Output: 1x1x80\n",
        "\n",
        "        # Final classifier: 80 features → 10 classes\n",
        "        self.fc = nn.Linear(80, 10)\n",
        "\n",
        "        # Dropout for regularization (prevents overfitting)\n",
        "        self.dropout = nn.Dropout(0.02)  # 2% dropout rate\n",
        "\n",
        "    def forward(self, x):\n",
        "        \"\"\"\n",
        "        Forward pass through the network\n",
        "        Input: [batch_size, 3, 32, 32]\n",
        "        Output: [batch_size, 10] (log probabilities for each class)\n",
        "        \"\"\"\n",
        "\n",
        "        # ========== C1 BLOCK: Initial Feature Extraction ==========\n",
        "        # Input: [batch, 3, 32, 32]\n",
        "        x = F.relu(self.bn1(self.conv1(x)))    # → [batch, 10, 32, 32]\n",
        "        x = F.relu(self.bn2(self.conv2(x)))    # → [batch, 10, 32, 32]\n",
        "        x = F.relu(self.bn3(self.conv3(x)))    # → [batch, 16, 32, 32]\n",
        "\n",
        "        # ========== C2 BLOCK: Depthwise Separable Convolutions ==========\n",
        "        # First DSC\n",
        "        x = F.relu(self.bn4(self.depthwise1(x)))   # → [batch, 16, 32, 32]\n",
        "        x = F.relu(self.bn5(self.pointwise1(x)))   # → [batch, 24, 32, 32]\n",
        "        x = F.dropout2d(x, p=0.01, training=self.training)  # Small dropout\n",
        "\n",
        "        # Second DSC\n",
        "        x = F.relu(self.bn6(self.depthwise2(x)))   # → [batch, 24, 32, 32]\n",
        "        x = F.relu(self.bn7(self.pointwise2(x)))   # → [batch, 32, 32, 32]\n",
        "\n",
        "        # ========== C3 BLOCK: Dilated Convolutions ==========\n",
        "        # Dilation=2 (sees 5x5 area with 3x3 kernel)\n",
        "        x = F.relu(self.bn8(self.dilated1(x)))     # → [batch, 32, 32, 32]\n",
        "        x = F.relu(self.bn9(self.pointwise3(x)))   # → [batch, 40, 32, 32]\n",
        "        x = F.dropout2d(x, p=0.02, training=self.training)  # Slightly more dropout\n",
        "\n",
        "        # Dilation=4 (sees 9x9 area with 3x3 kernel)\n",
        "        x = F.relu(self.bn10(self.dilated2(x)))    # → [batch, 40, 32, 32]\n",
        "        x = F.relu(self.bn11(self.pointwise4(x)))  # → [batch, 48, 32, 32]\n",
        "\n",
        "        # Regular conv to consolidate\n",
        "        x = F.relu(self.bn12(self.conv4(x)))       # → [batch, 56, 32, 32]\n",
        "\n",
        "        # ========== C4 BLOCK: Final Processing ==========\n",
        "        # Dilation=8 (sees 17x17 area with 3x3 kernel!)\n",
        "        x = F.relu(self.bn13(self.dilated3(x)))    # → [batch, 56, 32, 32]\n",
        "        x = F.relu(self.bn14(self.pointwise5(x)))  # → [batch, 64, 32, 32]\n",
        "        x = F.dropout2d(x, p=0.02, training=self.training)\n",
        "\n",
        "        # Dilation=4 again\n",
        "        x = F.relu(self.bn15(self.dilated4(x)))    # → [batch, 64, 32, 32]\n",
        "        x = F.relu(self.bn16(self.pointwise6(x)))  # → [batch, 72, 32, 32]\n",
        "\n",
        "        # STRIDE=2: Spatial reduction (replaces MaxPooling)\n",
        "        x = F.relu(self.bn17(self.conv5(x)))       # → [batch, 80, 16, 16]\n",
        "\n",
        "        # ========== OUTPUT: GAP and Classification ==========\n",
        "        x = self.gap(x)                 # → [batch, 80, 1, 1]\n",
        "        x = x.view(x.size(0), -1)      # → [batch, 80] (flatten)\n",
        "        x = self.dropout(x)             # Apply dropout before final layer\n",
        "        x = self.fc(x)                  # → [batch, 10]\n",
        "\n",
        "        # Return log probabilities (for NLLLoss)\n",
        "        return F.log_softmax(x, dim=-1)\n",
        "\n",
        "# ========== QUICK ARCHITECTURE SUMMARY ==========\n",
        "\"\"\"\n",
        "Data Flow Summary:\n",
        "==================\n",
        "Input:  [batch, 3, 32, 32]    (RGB image)\n",
        "   ↓ C1 Block (3 convs)\n",
        "[batch, 16, 32, 32]           (basic features)\n",
        "   ↓ C2 Block (2 DSCs)\n",
        "[batch, 32, 32, 32]           (efficient features)\n",
        "   ↓ C3 Block (2 dilated + 1 regular)\n",
        "[batch, 56, 32, 32]           (wide context features)\n",
        "   ↓ C4 Block (2 dilated + 1 strided)\n",
        "[batch, 80, 16, 16]           (high-level features, reduced size)\n",
        "   ↓ GAP\n",
        "[batch, 80, 1, 1]             (global features)\n",
        "   ↓ FC\n",
        "[batch, 10]                   (class predictions)\n",
        "\n",
        "Key Design Choices:\n",
        "- Start with few channels (10) to save parameters\n",
        "- Use depthwise separable for efficiency\n",
        "- Progressive dilation (2→4→8) for increasing RF\n",
        "- Stride=2 only at the end to preserve information\n",
        "- GAP instead of flatten saves ~200k parameters\n",
        "\"\"\""
      ],
      "metadata": {
        "colab": {
          "base_uri": "https://localhost:8080/",
          "height": 122
        },
        "id": "l8EU_NPEt8JK",
        "outputId": "364aa7d1-80a1-413b-ae7b-2d44e2a9d3b9"
      },
      "execution_count": 22,
      "outputs": [
        {
          "output_type": "execute_result",
          "data": {
            "text/plain": [
              "'\\nData Flow Summary:\\n==================\\nInput:  [batch, 3, 32, 32]    (RGB image)\\n   ↓ C1 Block (3 convs)\\n[batch, 16, 32, 32]           (basic features)\\n   ↓ C2 Block (2 DSCs)\\n[batch, 32, 32, 32]           (efficient features)\\n   ↓ C3 Block (2 dilated + 1 regular)\\n[batch, 56, 32, 32]           (wide context features)\\n   ↓ C4 Block (2 dilated + 1 strided)\\n[batch, 80, 16, 16]           (high-level features, reduced size)\\n   ↓ GAP\\n[batch, 80, 1, 1]             (global features)\\n   ↓ FC\\n[batch, 10]                   (class predictions)\\n\\nKey Design Choices:\\n- Start with few channels (10) to save parameters\\n- Use depthwise separable for efficiency\\n- Progressive dilation (2→4→8) for increasing RF\\n- Stride=2 only at the end to preserve information\\n- GAP instead of flatten saves ~200k parameters\\n'"
            ],
            "application/vnd.google.colaboratory.intrinsic+json": {
              "type": "string"
            }
          },
          "metadata": {},
          "execution_count": 22
        }
      ]
    },
    {
      "cell_type": "code",
      "source": [
        "# Data to plot accuracy and loss graphs\n",
        "train_losses = []\n",
        "test_losses = []\n",
        "train_acc = []\n",
        "test_acc = []\n",
        "\n",
        "test_incorrect_pred = {'images': [], 'ground_truths': [], 'predicted_vals': []}"
      ],
      "metadata": {
        "id": "FftY35QSuBEd"
      },
      "execution_count": 23,
      "outputs": []
    },
    {
      "cell_type": "code",
      "source": [
        "from tqdm import tqdm\n",
        "\n",
        "def GetCorrectPredCount(pPrediction, pLabels):\n",
        "    return pPrediction.argmax(dim=1).eq(pLabels).sum().item()\n",
        "\n",
        "def train(model, device, train_loader, optimizer, criterion):\n",
        "    model.train()\n",
        "    pbar = tqdm(train_loader)\n",
        "\n",
        "    train_loss = 0\n",
        "    correct = 0\n",
        "    processed = 0\n",
        "\n",
        "    for batch_idx, (data, target) in enumerate(pbar):\n",
        "        data, target = data.to(device), target.to(device)\n",
        "        optimizer.zero_grad()\n",
        "\n",
        "        # Predict\n",
        "        pred = model(data)\n",
        "\n",
        "        # Calculate loss\n",
        "        loss = criterion(pred, target)\n",
        "        train_loss += loss.item()\n",
        "\n",
        "        # Backpropagation\n",
        "        loss.backward()\n",
        "        optimizer.step()\n",
        "\n",
        "        correct += GetCorrectPredCount(pred, target)\n",
        "        processed += len(data)\n",
        "\n",
        "        pbar.set_description(desc=f'Train: Loss={loss.item():0.4f} Batch_id={batch_idx} Accuracy={100*correct/processed:0.2f}')\n",
        "\n",
        "    train_acc.append(100*correct/processed)\n",
        "    train_losses.append(train_loss/len(train_loader))\n",
        "\n",
        "def test(model, device, test_loader, criterion):\n",
        "    model.eval()\n",
        "\n",
        "    test_loss = 0\n",
        "    correct = 0\n",
        "\n",
        "    with torch.no_grad():\n",
        "        for batch_idx, (data, target) in enumerate(test_loader):\n",
        "            data, target = data.to(device), target.to(device)\n",
        "\n",
        "            output = model(data)\n",
        "            test_loss += criterion(output, target, reduction='sum').item()\n",
        "\n",
        "            correct += GetCorrectPredCount(output, target)\n",
        "\n",
        "    test_loss /= len(test_loader.dataset)\n",
        "    test_acc.append(100. * correct / len(test_loader.dataset))\n",
        "    test_losses.append(test_loss)\n",
        "\n",
        "    print('Test set: Average loss: {:.4f}, Accuracy: {}/{} ({:.2f}%)\\n'.format(\n",
        "        test_loss, correct, len(test_loader.dataset),\n",
        "        100. * correct / len(test_loader.dataset)))"
      ],
      "metadata": {
        "id": "lhr-YFpfuxFP"
      },
      "execution_count": 24,
      "outputs": []
    },
    {
      "cell_type": "code",
      "source": [
        "# Create model and move to device\n",
        "model = CIFAR10Net().to(device)\n",
        "\n",
        "# Check parameters\n",
        "total_params = sum(p.numel() for p in model.parameters() if p.requires_grad)\n",
        "print(f'Total parameters: {total_params:,}')\n",
        "print(f'Under 200k? {\"✅ YES\" if total_params < 200000 else \"❌ NO\"}')\n",
        "\n",
        "# Setup optimizer, scheduler, and loss\n",
        "optimizer = optim.SGD(model.parameters(), lr=0.1, momentum=0.9, weight_decay=1e-4)\n",
        "scheduler = optim.lr_scheduler.OneCycleLR(\n",
        "    optimizer,\n",
        "    max_lr=0.1,\n",
        "    epochs=100,\n",
        "    steps_per_epoch=len(train_loader),\n",
        "    pct_start=0.2,\n",
        "    anneal_strategy='cos'\n",
        ")\n",
        "criterion = nn.NLLLoss()  # Use NLLLoss with log_softmax\n",
        "num_epochs = 100\n",
        "model_hits = 0\n",
        "\n",
        "# Training loop\n",
        "for epoch in range(1, 150):\n",
        "    print(f'Epoch {epoch}')\n",
        "    train(model, device, train_loader, optimizer, criterion)\n",
        "    test(model, device, test_loader, criterion)\n",
        "\n",
        "    # Step scheduler after each batch in OneCycleLR\n",
        "    # (OneCycleLR steps are handled in train function)\n",
        "\n",
        "    # Check if we reached 85% accuracy\n",
        "    if test_acc[-1] >= 85.0 and model_hits==5 :\n",
        "        print(f'🎉 Reached 85% accuracy at epoch {epoch}!')\n",
        "        break"
      ],
      "metadata": {
        "colab": {
          "base_uri": "https://localhost:8080/"
        },
        "id": "-MjLllEgu13N",
        "outputId": "727093d4-9515-4bb7-fc6e-78296823cf03"
      },
      "execution_count": 30,
      "outputs": [
        {
          "output_type": "stream",
          "name": "stdout",
          "text": [
            "Total parameters: 95,452\n",
            "Under 200k? ✅ YES\n",
            "Epoch 1\n"
          ]
        },
        {
          "output_type": "stream",
          "name": "stderr",
          "text": [
            "Train: Loss=1.5361 Batch_id=390 Accuracy=30.58: 100%|██████████| 391/391 [00:23<00:00, 16.51it/s]\n"
          ]
        },
        {
          "output_type": "stream",
          "name": "stdout",
          "text": [
            "Test set: Average loss: 1.5337, Accuracy: 4253/10000 (42.53%)\n",
            "\n",
            "Epoch 2\n"
          ]
        },
        {
          "output_type": "stream",
          "name": "stderr",
          "text": [
            "Train: Loss=1.2528 Batch_id=390 Accuracy=46.98: 100%|██████████| 391/391 [00:25<00:00, 15.44it/s]\n"
          ]
        },
        {
          "output_type": "stream",
          "name": "stdout",
          "text": [
            "Test set: Average loss: 1.2263, Accuracy: 5491/10000 (54.91%)\n",
            "\n",
            "Epoch 3\n"
          ]
        },
        {
          "output_type": "stream",
          "name": "stderr",
          "text": [
            "Train: Loss=1.2889 Batch_id=390 Accuracy=54.24: 100%|██████████| 391/391 [00:23<00:00, 16.93it/s]\n"
          ]
        },
        {
          "output_type": "stream",
          "name": "stdout",
          "text": [
            "Test set: Average loss: 1.1134, Accuracy: 5902/10000 (59.02%)\n",
            "\n",
            "Epoch 4\n"
          ]
        },
        {
          "output_type": "stream",
          "name": "stderr",
          "text": [
            "Train: Loss=1.0984 Batch_id=390 Accuracy=58.49: 100%|██████████| 391/391 [00:23<00:00, 16.70it/s]\n"
          ]
        },
        {
          "output_type": "stream",
          "name": "stdout",
          "text": [
            "Test set: Average loss: 1.0830, Accuracy: 6033/10000 (60.33%)\n",
            "\n",
            "Epoch 5\n"
          ]
        },
        {
          "output_type": "stream",
          "name": "stderr",
          "text": [
            "Train: Loss=0.8794 Batch_id=390 Accuracy=61.37: 100%|██████████| 391/391 [00:23<00:00, 16.98it/s]\n"
          ]
        },
        {
          "output_type": "stream",
          "name": "stdout",
          "text": [
            "Test set: Average loss: 0.9418, Accuracy: 6576/10000 (65.76%)\n",
            "\n",
            "Epoch 6\n"
          ]
        },
        {
          "output_type": "stream",
          "name": "stderr",
          "text": [
            "Train: Loss=1.0802 Batch_id=390 Accuracy=63.81: 100%|██████████| 391/391 [00:22<00:00, 17.15it/s]\n"
          ]
        },
        {
          "output_type": "stream",
          "name": "stdout",
          "text": [
            "Test set: Average loss: 0.8967, Accuracy: 6771/10000 (67.71%)\n",
            "\n",
            "Epoch 7\n"
          ]
        },
        {
          "output_type": "stream",
          "name": "stderr",
          "text": [
            "Train: Loss=0.8801 Batch_id=390 Accuracy=65.94: 100%|██████████| 391/391 [00:23<00:00, 16.93it/s]\n"
          ]
        },
        {
          "output_type": "stream",
          "name": "stdout",
          "text": [
            "Test set: Average loss: 0.8735, Accuracy: 6888/10000 (68.88%)\n",
            "\n",
            "Epoch 8\n"
          ]
        },
        {
          "output_type": "stream",
          "name": "stderr",
          "text": [
            "Train: Loss=0.8734 Batch_id=390 Accuracy=67.68: 100%|██████████| 391/391 [00:23<00:00, 16.88it/s]\n"
          ]
        },
        {
          "output_type": "stream",
          "name": "stdout",
          "text": [
            "Test set: Average loss: 0.7866, Accuracy: 7208/10000 (72.08%)\n",
            "\n",
            "Epoch 9\n"
          ]
        },
        {
          "output_type": "stream",
          "name": "stderr",
          "text": [
            "Train: Loss=0.7446 Batch_id=390 Accuracy=68.82: 100%|██████████| 391/391 [00:23<00:00, 16.87it/s]\n"
          ]
        },
        {
          "output_type": "stream",
          "name": "stdout",
          "text": [
            "Test set: Average loss: 0.8039, Accuracy: 7176/10000 (71.76%)\n",
            "\n",
            "Epoch 10\n"
          ]
        },
        {
          "output_type": "stream",
          "name": "stderr",
          "text": [
            "Train: Loss=0.8265 Batch_id=390 Accuracy=70.10: 100%|██████████| 391/391 [00:23<00:00, 16.53it/s]\n"
          ]
        },
        {
          "output_type": "stream",
          "name": "stdout",
          "text": [
            "Test set: Average loss: 0.7384, Accuracy: 7431/10000 (74.31%)\n",
            "\n",
            "Epoch 11\n"
          ]
        },
        {
          "output_type": "stream",
          "name": "stderr",
          "text": [
            "Train: Loss=0.9787 Batch_id=390 Accuracy=71.28: 100%|██████████| 391/391 [00:23<00:00, 16.45it/s]\n"
          ]
        },
        {
          "output_type": "stream",
          "name": "stdout",
          "text": [
            "Test set: Average loss: 0.7224, Accuracy: 7443/10000 (74.43%)\n",
            "\n",
            "Epoch 12\n"
          ]
        },
        {
          "output_type": "stream",
          "name": "stderr",
          "text": [
            "Train: Loss=0.8107 Batch_id=390 Accuracy=72.22: 100%|██████████| 391/391 [00:23<00:00, 16.34it/s]\n"
          ]
        },
        {
          "output_type": "stream",
          "name": "stdout",
          "text": [
            "Test set: Average loss: 0.7191, Accuracy: 7468/10000 (74.68%)\n",
            "\n",
            "Epoch 13\n"
          ]
        },
        {
          "output_type": "stream",
          "name": "stderr",
          "text": [
            "Train: Loss=0.8700 Batch_id=390 Accuracy=72.80: 100%|██████████| 391/391 [00:23<00:00, 16.32it/s]\n"
          ]
        },
        {
          "output_type": "stream",
          "name": "stdout",
          "text": [
            "Test set: Average loss: 0.7396, Accuracy: 7423/10000 (74.23%)\n",
            "\n",
            "Epoch 14\n"
          ]
        },
        {
          "output_type": "stream",
          "name": "stderr",
          "text": [
            "Train: Loss=0.8702 Batch_id=390 Accuracy=73.55: 100%|██████████| 391/391 [00:23<00:00, 16.43it/s]\n"
          ]
        },
        {
          "output_type": "stream",
          "name": "stdout",
          "text": [
            "Test set: Average loss: 0.6724, Accuracy: 7657/10000 (76.57%)\n",
            "\n",
            "Epoch 15\n"
          ]
        },
        {
          "output_type": "stream",
          "name": "stderr",
          "text": [
            "Train: Loss=0.6340 Batch_id=390 Accuracy=74.11: 100%|██████████| 391/391 [00:23<00:00, 16.50it/s]\n"
          ]
        },
        {
          "output_type": "stream",
          "name": "stdout",
          "text": [
            "Test set: Average loss: 0.6802, Accuracy: 7637/10000 (76.37%)\n",
            "\n",
            "Epoch 16\n"
          ]
        },
        {
          "output_type": "stream",
          "name": "stderr",
          "text": [
            "Train: Loss=0.7599 Batch_id=390 Accuracy=74.60: 100%|██████████| 391/391 [00:23<00:00, 16.52it/s]\n"
          ]
        },
        {
          "output_type": "stream",
          "name": "stdout",
          "text": [
            "Test set: Average loss: 0.6503, Accuracy: 7733/10000 (77.33%)\n",
            "\n",
            "Epoch 17\n"
          ]
        },
        {
          "output_type": "stream",
          "name": "stderr",
          "text": [
            "Train: Loss=0.6670 Batch_id=390 Accuracy=74.79: 100%|██████████| 391/391 [00:23<00:00, 16.39it/s]\n"
          ]
        },
        {
          "output_type": "stream",
          "name": "stdout",
          "text": [
            "Test set: Average loss: 0.6441, Accuracy: 7781/10000 (77.81%)\n",
            "\n",
            "Epoch 18\n"
          ]
        },
        {
          "output_type": "stream",
          "name": "stderr",
          "text": [
            "Train: Loss=0.6658 Batch_id=390 Accuracy=75.68: 100%|██████████| 391/391 [00:23<00:00, 16.73it/s]\n"
          ]
        },
        {
          "output_type": "stream",
          "name": "stdout",
          "text": [
            "Test set: Average loss: 0.6154, Accuracy: 7877/10000 (78.77%)\n",
            "\n",
            "Epoch 19\n"
          ]
        },
        {
          "output_type": "stream",
          "name": "stderr",
          "text": [
            "Train: Loss=0.7726 Batch_id=390 Accuracy=75.92: 100%|██████████| 391/391 [00:23<00:00, 16.95it/s]\n"
          ]
        },
        {
          "output_type": "stream",
          "name": "stdout",
          "text": [
            "Test set: Average loss: 0.5973, Accuracy: 7910/10000 (79.10%)\n",
            "\n",
            "Epoch 20\n"
          ]
        },
        {
          "output_type": "stream",
          "name": "stderr",
          "text": [
            "Train: Loss=0.6144 Batch_id=390 Accuracy=76.19: 100%|██████████| 391/391 [00:23<00:00, 16.90it/s]\n"
          ]
        },
        {
          "output_type": "stream",
          "name": "stdout",
          "text": [
            "Test set: Average loss: 0.5992, Accuracy: 7917/10000 (79.17%)\n",
            "\n",
            "Epoch 21\n"
          ]
        },
        {
          "output_type": "stream",
          "name": "stderr",
          "text": [
            "Train: Loss=0.4800 Batch_id=390 Accuracy=76.58: 100%|██████████| 391/391 [00:23<00:00, 16.75it/s]\n"
          ]
        },
        {
          "output_type": "stream",
          "name": "stdout",
          "text": [
            "Test set: Average loss: 0.5961, Accuracy: 7944/10000 (79.44%)\n",
            "\n",
            "Epoch 22\n"
          ]
        },
        {
          "output_type": "stream",
          "name": "stderr",
          "text": [
            "Train: Loss=0.6987 Batch_id=390 Accuracy=76.86: 100%|██████████| 391/391 [00:23<00:00, 16.54it/s]\n"
          ]
        },
        {
          "output_type": "stream",
          "name": "stdout",
          "text": [
            "Test set: Average loss: 0.5908, Accuracy: 7938/10000 (79.38%)\n",
            "\n",
            "Epoch 23\n"
          ]
        },
        {
          "output_type": "stream",
          "name": "stderr",
          "text": [
            "Train: Loss=0.4719 Batch_id=390 Accuracy=77.62: 100%|██████████| 391/391 [00:23<00:00, 16.38it/s]\n"
          ]
        },
        {
          "output_type": "stream",
          "name": "stdout",
          "text": [
            "Test set: Average loss: 0.5956, Accuracy: 7949/10000 (79.49%)\n",
            "\n",
            "Epoch 24\n"
          ]
        },
        {
          "output_type": "stream",
          "name": "stderr",
          "text": [
            "Train: Loss=0.5959 Batch_id=390 Accuracy=77.72: 100%|██████████| 391/391 [00:23<00:00, 16.32it/s]\n"
          ]
        },
        {
          "output_type": "stream",
          "name": "stdout",
          "text": [
            "Test set: Average loss: 0.5934, Accuracy: 7963/10000 (79.63%)\n",
            "\n",
            "Epoch 25\n"
          ]
        },
        {
          "output_type": "stream",
          "name": "stderr",
          "text": [
            "Train: Loss=0.7046 Batch_id=390 Accuracy=77.76: 100%|██████████| 391/391 [00:24<00:00, 16.24it/s]\n"
          ]
        },
        {
          "output_type": "stream",
          "name": "stdout",
          "text": [
            "Test set: Average loss: 0.5754, Accuracy: 8043/10000 (80.43%)\n",
            "\n",
            "Epoch 26\n"
          ]
        },
        {
          "output_type": "stream",
          "name": "stderr",
          "text": [
            "Train: Loss=0.5854 Batch_id=390 Accuracy=77.90: 100%|██████████| 391/391 [00:24<00:00, 16.27it/s]\n"
          ]
        },
        {
          "output_type": "stream",
          "name": "stdout",
          "text": [
            "Test set: Average loss: 0.5785, Accuracy: 7999/10000 (79.99%)\n",
            "\n",
            "Epoch 27\n"
          ]
        },
        {
          "output_type": "stream",
          "name": "stderr",
          "text": [
            "Train: Loss=0.7175 Batch_id=390 Accuracy=78.33: 100%|██████████| 391/391 [00:24<00:00, 16.12it/s]\n"
          ]
        },
        {
          "output_type": "stream",
          "name": "stdout",
          "text": [
            "Test set: Average loss: 0.5768, Accuracy: 7985/10000 (79.85%)\n",
            "\n",
            "Epoch 28\n"
          ]
        },
        {
          "output_type": "stream",
          "name": "stderr",
          "text": [
            "Train: Loss=0.5865 Batch_id=390 Accuracy=78.56: 100%|██████████| 391/391 [00:23<00:00, 16.42it/s]\n"
          ]
        },
        {
          "output_type": "stream",
          "name": "stdout",
          "text": [
            "Test set: Average loss: 0.5806, Accuracy: 7995/10000 (79.95%)\n",
            "\n",
            "Epoch 29\n"
          ]
        },
        {
          "output_type": "stream",
          "name": "stderr",
          "text": [
            "Train: Loss=0.6083 Batch_id=390 Accuracy=78.79: 100%|██████████| 391/391 [00:23<00:00, 16.57it/s]\n"
          ]
        },
        {
          "output_type": "stream",
          "name": "stdout",
          "text": [
            "Test set: Average loss: 0.5486, Accuracy: 8117/10000 (81.17%)\n",
            "\n",
            "Epoch 30\n"
          ]
        },
        {
          "output_type": "stream",
          "name": "stderr",
          "text": [
            "Train: Loss=0.8523 Batch_id=390 Accuracy=78.82: 100%|██████████| 391/391 [00:23<00:00, 16.38it/s]\n"
          ]
        },
        {
          "output_type": "stream",
          "name": "stdout",
          "text": [
            "Test set: Average loss: 0.5361, Accuracy: 8196/10000 (81.96%)\n",
            "\n",
            "Epoch 31\n"
          ]
        },
        {
          "output_type": "stream",
          "name": "stderr",
          "text": [
            "Train: Loss=0.6181 Batch_id=390 Accuracy=79.10: 100%|██████████| 391/391 [00:24<00:00, 16.15it/s]\n"
          ]
        },
        {
          "output_type": "stream",
          "name": "stdout",
          "text": [
            "Test set: Average loss: 0.5391, Accuracy: 8133/10000 (81.33%)\n",
            "\n",
            "Epoch 32\n"
          ]
        },
        {
          "output_type": "stream",
          "name": "stderr",
          "text": [
            "Train: Loss=0.4648 Batch_id=390 Accuracy=79.24: 100%|██████████| 391/391 [00:23<00:00, 16.88it/s]\n"
          ]
        },
        {
          "output_type": "stream",
          "name": "stdout",
          "text": [
            "Test set: Average loss: 0.5441, Accuracy: 8123/10000 (81.23%)\n",
            "\n",
            "Epoch 33\n"
          ]
        },
        {
          "output_type": "stream",
          "name": "stderr",
          "text": [
            "Train: Loss=0.5654 Batch_id=390 Accuracy=79.68: 100%|██████████| 391/391 [00:23<00:00, 16.83it/s]\n"
          ]
        },
        {
          "output_type": "stream",
          "name": "stdout",
          "text": [
            "Test set: Average loss: 0.5317, Accuracy: 8169/10000 (81.69%)\n",
            "\n",
            "Epoch 34\n"
          ]
        },
        {
          "output_type": "stream",
          "name": "stderr",
          "text": [
            "Train: Loss=0.6949 Batch_id=390 Accuracy=79.69: 100%|██████████| 391/391 [00:23<00:00, 16.99it/s]\n"
          ]
        },
        {
          "output_type": "stream",
          "name": "stdout",
          "text": [
            "Test set: Average loss: 0.5300, Accuracy: 8173/10000 (81.73%)\n",
            "\n",
            "Epoch 35\n"
          ]
        },
        {
          "output_type": "stream",
          "name": "stderr",
          "text": [
            "Train: Loss=0.4473 Batch_id=390 Accuracy=80.09: 100%|██████████| 391/391 [00:24<00:00, 16.03it/s]\n"
          ]
        },
        {
          "output_type": "stream",
          "name": "stdout",
          "text": [
            "Test set: Average loss: 0.5165, Accuracy: 8208/10000 (82.08%)\n",
            "\n",
            "Epoch 36\n"
          ]
        },
        {
          "output_type": "stream",
          "name": "stderr",
          "text": [
            "Train: Loss=0.3548 Batch_id=390 Accuracy=80.22: 100%|██████████| 391/391 [00:23<00:00, 16.55it/s]\n"
          ]
        },
        {
          "output_type": "stream",
          "name": "stdout",
          "text": [
            "Test set: Average loss: 0.5285, Accuracy: 8154/10000 (81.54%)\n",
            "\n",
            "Epoch 37\n"
          ]
        },
        {
          "output_type": "stream",
          "name": "stderr",
          "text": [
            "Train: Loss=0.4415 Batch_id=390 Accuracy=80.13: 100%|██████████| 391/391 [00:23<00:00, 16.29it/s]\n"
          ]
        },
        {
          "output_type": "stream",
          "name": "stdout",
          "text": [
            "Test set: Average loss: 0.5055, Accuracy: 8250/10000 (82.50%)\n",
            "\n",
            "Epoch 38\n"
          ]
        },
        {
          "output_type": "stream",
          "name": "stderr",
          "text": [
            "Train: Loss=0.4503 Batch_id=390 Accuracy=80.49: 100%|██████████| 391/391 [00:23<00:00, 16.57it/s]\n"
          ]
        },
        {
          "output_type": "stream",
          "name": "stdout",
          "text": [
            "Test set: Average loss: 0.4961, Accuracy: 8286/10000 (82.86%)\n",
            "\n",
            "Epoch 39\n"
          ]
        },
        {
          "output_type": "stream",
          "name": "stderr",
          "text": [
            "Train: Loss=0.5539 Batch_id=390 Accuracy=80.31: 100%|██████████| 391/391 [00:23<00:00, 16.60it/s]\n"
          ]
        },
        {
          "output_type": "stream",
          "name": "stdout",
          "text": [
            "Test set: Average loss: 0.5144, Accuracy: 8214/10000 (82.14%)\n",
            "\n",
            "Epoch 40\n"
          ]
        },
        {
          "output_type": "stream",
          "name": "stderr",
          "text": [
            "Train: Loss=0.5720 Batch_id=390 Accuracy=80.53: 100%|██████████| 391/391 [00:23<00:00, 16.53it/s]\n"
          ]
        },
        {
          "output_type": "stream",
          "name": "stdout",
          "text": [
            "Test set: Average loss: 0.5038, Accuracy: 8263/10000 (82.63%)\n",
            "\n",
            "Epoch 41\n"
          ]
        },
        {
          "output_type": "stream",
          "name": "stderr",
          "text": [
            "Train: Loss=0.6375 Batch_id=390 Accuracy=80.60: 100%|██████████| 391/391 [00:23<00:00, 16.56it/s]\n"
          ]
        },
        {
          "output_type": "stream",
          "name": "stdout",
          "text": [
            "Test set: Average loss: 0.5223, Accuracy: 8232/10000 (82.32%)\n",
            "\n",
            "Epoch 42\n"
          ]
        },
        {
          "output_type": "stream",
          "name": "stderr",
          "text": [
            "Train: Loss=0.4818 Batch_id=390 Accuracy=80.77: 100%|██████████| 391/391 [00:23<00:00, 16.58it/s]\n"
          ]
        },
        {
          "output_type": "stream",
          "name": "stdout",
          "text": [
            "Test set: Average loss: 0.4962, Accuracy: 8270/10000 (82.70%)\n",
            "\n",
            "Epoch 43\n"
          ]
        },
        {
          "output_type": "stream",
          "name": "stderr",
          "text": [
            "Train: Loss=0.4982 Batch_id=390 Accuracy=80.85: 100%|██████████| 391/391 [00:23<00:00, 16.35it/s]\n"
          ]
        },
        {
          "output_type": "stream",
          "name": "stdout",
          "text": [
            "Test set: Average loss: 0.5197, Accuracy: 8206/10000 (82.06%)\n",
            "\n",
            "Epoch 44\n"
          ]
        },
        {
          "output_type": "stream",
          "name": "stderr",
          "text": [
            "Train: Loss=0.6053 Batch_id=390 Accuracy=80.75: 100%|██████████| 391/391 [00:23<00:00, 16.54it/s]\n"
          ]
        },
        {
          "output_type": "stream",
          "name": "stdout",
          "text": [
            "Test set: Average loss: 0.4972, Accuracy: 8310/10000 (83.10%)\n",
            "\n",
            "Epoch 45\n"
          ]
        },
        {
          "output_type": "stream",
          "name": "stderr",
          "text": [
            "Train: Loss=0.7426 Batch_id=390 Accuracy=81.02: 100%|██████████| 391/391 [00:23<00:00, 16.84it/s]\n"
          ]
        },
        {
          "output_type": "stream",
          "name": "stdout",
          "text": [
            "Test set: Average loss: 0.4942, Accuracy: 8320/10000 (83.20%)\n",
            "\n",
            "Epoch 46\n"
          ]
        },
        {
          "output_type": "stream",
          "name": "stderr",
          "text": [
            "Train: Loss=0.5091 Batch_id=390 Accuracy=81.20: 100%|██████████| 391/391 [00:22<00:00, 17.07it/s]\n"
          ]
        },
        {
          "output_type": "stream",
          "name": "stdout",
          "text": [
            "Test set: Average loss: 0.5011, Accuracy: 8278/10000 (82.78%)\n",
            "\n",
            "Epoch 47\n"
          ]
        },
        {
          "output_type": "stream",
          "name": "stderr",
          "text": [
            "Train: Loss=0.6706 Batch_id=390 Accuracy=80.88: 100%|██████████| 391/391 [00:22<00:00, 17.03it/s]\n"
          ]
        },
        {
          "output_type": "stream",
          "name": "stdout",
          "text": [
            "Test set: Average loss: 0.4808, Accuracy: 8302/10000 (83.02%)\n",
            "\n",
            "Epoch 48\n"
          ]
        },
        {
          "output_type": "stream",
          "name": "stderr",
          "text": [
            "Train: Loss=0.6961 Batch_id=390 Accuracy=81.37: 100%|██████████| 391/391 [00:23<00:00, 16.73it/s]\n"
          ]
        },
        {
          "output_type": "stream",
          "name": "stdout",
          "text": [
            "Test set: Average loss: 0.4950, Accuracy: 8268/10000 (82.68%)\n",
            "\n",
            "Epoch 49\n"
          ]
        },
        {
          "output_type": "stream",
          "name": "stderr",
          "text": [
            "Train: Loss=0.3954 Batch_id=390 Accuracy=81.38: 100%|██████████| 391/391 [00:23<00:00, 16.59it/s]\n"
          ]
        },
        {
          "output_type": "stream",
          "name": "stdout",
          "text": [
            "Test set: Average loss: 0.4814, Accuracy: 8355/10000 (83.55%)\n",
            "\n",
            "Epoch 50\n"
          ]
        },
        {
          "output_type": "stream",
          "name": "stderr",
          "text": [
            "Train: Loss=0.4566 Batch_id=390 Accuracy=81.69: 100%|██████████| 391/391 [00:23<00:00, 16.68it/s]\n"
          ]
        },
        {
          "output_type": "stream",
          "name": "stdout",
          "text": [
            "Test set: Average loss: 0.4751, Accuracy: 8363/10000 (83.63%)\n",
            "\n",
            "Epoch 51\n"
          ]
        },
        {
          "output_type": "stream",
          "name": "stderr",
          "text": [
            "Train: Loss=0.4835 Batch_id=390 Accuracy=81.87: 100%|██████████| 391/391 [00:23<00:00, 16.55it/s]\n"
          ]
        },
        {
          "output_type": "stream",
          "name": "stdout",
          "text": [
            "Test set: Average loss: 0.4773, Accuracy: 8342/10000 (83.42%)\n",
            "\n",
            "Epoch 52\n"
          ]
        },
        {
          "output_type": "stream",
          "name": "stderr",
          "text": [
            "Train: Loss=0.4094 Batch_id=390 Accuracy=81.80: 100%|██████████| 391/391 [00:23<00:00, 16.47it/s]\n"
          ]
        },
        {
          "output_type": "stream",
          "name": "stdout",
          "text": [
            "Test set: Average loss: 0.4788, Accuracy: 8349/10000 (83.49%)\n",
            "\n",
            "Epoch 53\n"
          ]
        },
        {
          "output_type": "stream",
          "name": "stderr",
          "text": [
            "Train: Loss=0.5194 Batch_id=390 Accuracy=82.05: 100%|██████████| 391/391 [00:24<00:00, 16.26it/s]\n"
          ]
        },
        {
          "output_type": "stream",
          "name": "stdout",
          "text": [
            "Test set: Average loss: 0.4804, Accuracy: 8363/10000 (83.63%)\n",
            "\n",
            "Epoch 54\n"
          ]
        },
        {
          "output_type": "stream",
          "name": "stderr",
          "text": [
            "Train: Loss=0.4662 Batch_id=390 Accuracy=81.91: 100%|██████████| 391/391 [00:24<00:00, 16.03it/s]\n"
          ]
        },
        {
          "output_type": "stream",
          "name": "stdout",
          "text": [
            "Test set: Average loss: 0.4700, Accuracy: 8419/10000 (84.19%)\n",
            "\n",
            "Epoch 55\n"
          ]
        },
        {
          "output_type": "stream",
          "name": "stderr",
          "text": [
            "Train: Loss=0.5353 Batch_id=390 Accuracy=82.29: 100%|██████████| 391/391 [00:24<00:00, 16.17it/s]\n"
          ]
        },
        {
          "output_type": "stream",
          "name": "stdout",
          "text": [
            "Test set: Average loss: 0.5062, Accuracy: 8289/10000 (82.89%)\n",
            "\n",
            "Epoch 56\n"
          ]
        },
        {
          "output_type": "stream",
          "name": "stderr",
          "text": [
            "Train: Loss=0.5078 Batch_id=390 Accuracy=82.14: 100%|██████████| 391/391 [00:23<00:00, 16.33it/s]\n"
          ]
        },
        {
          "output_type": "stream",
          "name": "stdout",
          "text": [
            "Test set: Average loss: 0.4665, Accuracy: 8381/10000 (83.81%)\n",
            "\n",
            "Epoch 57\n"
          ]
        },
        {
          "output_type": "stream",
          "name": "stderr",
          "text": [
            "Train: Loss=0.3641 Batch_id=390 Accuracy=82.21: 100%|██████████| 391/391 [00:23<00:00, 16.56it/s]\n"
          ]
        },
        {
          "output_type": "stream",
          "name": "stdout",
          "text": [
            "Test set: Average loss: 0.4701, Accuracy: 8409/10000 (84.09%)\n",
            "\n",
            "Epoch 58\n"
          ]
        },
        {
          "output_type": "stream",
          "name": "stderr",
          "text": [
            "Train: Loss=0.3742 Batch_id=390 Accuracy=82.36: 100%|██████████| 391/391 [00:23<00:00, 16.67it/s]\n"
          ]
        },
        {
          "output_type": "stream",
          "name": "stdout",
          "text": [
            "Test set: Average loss: 0.4772, Accuracy: 8362/10000 (83.62%)\n",
            "\n",
            "Epoch 59\n"
          ]
        },
        {
          "output_type": "stream",
          "name": "stderr",
          "text": [
            "Train: Loss=0.4731 Batch_id=390 Accuracy=82.16: 100%|██████████| 391/391 [00:23<00:00, 16.73it/s]\n"
          ]
        },
        {
          "output_type": "stream",
          "name": "stdout",
          "text": [
            "Test set: Average loss: 0.4612, Accuracy: 8424/10000 (84.24%)\n",
            "\n",
            "Epoch 60\n"
          ]
        },
        {
          "output_type": "stream",
          "name": "stderr",
          "text": [
            "Train: Loss=0.5931 Batch_id=390 Accuracy=82.57: 100%|██████████| 391/391 [00:23<00:00, 16.85it/s]\n"
          ]
        },
        {
          "output_type": "stream",
          "name": "stdout",
          "text": [
            "Test set: Average loss: 0.4971, Accuracy: 8298/10000 (82.98%)\n",
            "\n",
            "Epoch 61\n"
          ]
        },
        {
          "output_type": "stream",
          "name": "stderr",
          "text": [
            "Train: Loss=0.4979 Batch_id=390 Accuracy=82.58: 100%|██████████| 391/391 [00:23<00:00, 16.89it/s]\n"
          ]
        },
        {
          "output_type": "stream",
          "name": "stdout",
          "text": [
            "Test set: Average loss: 0.4652, Accuracy: 8389/10000 (83.89%)\n",
            "\n",
            "Epoch 62\n"
          ]
        },
        {
          "output_type": "stream",
          "name": "stderr",
          "text": [
            "Train: Loss=0.5342 Batch_id=390 Accuracy=82.77: 100%|██████████| 391/391 [00:23<00:00, 16.43it/s]\n"
          ]
        },
        {
          "output_type": "stream",
          "name": "stdout",
          "text": [
            "Test set: Average loss: 0.4716, Accuracy: 8386/10000 (83.86%)\n",
            "\n",
            "Epoch 63\n"
          ]
        },
        {
          "output_type": "stream",
          "name": "stderr",
          "text": [
            "Train: Loss=0.6178 Batch_id=390 Accuracy=82.90: 100%|██████████| 391/391 [00:24<00:00, 15.99it/s]\n"
          ]
        },
        {
          "output_type": "stream",
          "name": "stdout",
          "text": [
            "Test set: Average loss: 0.4756, Accuracy: 8377/10000 (83.77%)\n",
            "\n",
            "Epoch 64\n"
          ]
        },
        {
          "output_type": "stream",
          "name": "stderr",
          "text": [
            "Train: Loss=0.3420 Batch_id=390 Accuracy=82.94: 100%|██████████| 391/391 [00:23<00:00, 16.34it/s]\n"
          ]
        },
        {
          "output_type": "stream",
          "name": "stdout",
          "text": [
            "Test set: Average loss: 0.4519, Accuracy: 8430/10000 (84.30%)\n",
            "\n",
            "Epoch 65\n"
          ]
        },
        {
          "output_type": "stream",
          "name": "stderr",
          "text": [
            "Train: Loss=0.5129 Batch_id=390 Accuracy=83.11: 100%|██████████| 391/391 [00:24<00:00, 16.16it/s]\n"
          ]
        },
        {
          "output_type": "stream",
          "name": "stdout",
          "text": [
            "Test set: Average loss: 0.4523, Accuracy: 8472/10000 (84.72%)\n",
            "\n",
            "Epoch 66\n"
          ]
        },
        {
          "output_type": "stream",
          "name": "stderr",
          "text": [
            "Train: Loss=0.4731 Batch_id=390 Accuracy=83.10: 100%|██████████| 391/391 [00:24<00:00, 15.94it/s]\n"
          ]
        },
        {
          "output_type": "stream",
          "name": "stdout",
          "text": [
            "Test set: Average loss: 0.4559, Accuracy: 8455/10000 (84.55%)\n",
            "\n",
            "Epoch 67\n"
          ]
        },
        {
          "output_type": "stream",
          "name": "stderr",
          "text": [
            "Train: Loss=0.4747 Batch_id=390 Accuracy=83.12: 100%|██████████| 391/391 [00:24<00:00, 16.22it/s]\n"
          ]
        },
        {
          "output_type": "stream",
          "name": "stdout",
          "text": [
            "Test set: Average loss: 0.4675, Accuracy: 8421/10000 (84.21%)\n",
            "\n",
            "Epoch 68\n"
          ]
        },
        {
          "output_type": "stream",
          "name": "stderr",
          "text": [
            "Train: Loss=0.4554 Batch_id=390 Accuracy=83.11: 100%|██████████| 391/391 [00:23<00:00, 16.34it/s]\n"
          ]
        },
        {
          "output_type": "stream",
          "name": "stdout",
          "text": [
            "Test set: Average loss: 0.4604, Accuracy: 8403/10000 (84.03%)\n",
            "\n",
            "Epoch 69\n"
          ]
        },
        {
          "output_type": "stream",
          "name": "stderr",
          "text": [
            "Train: Loss=0.5145 Batch_id=390 Accuracy=83.10: 100%|██████████| 391/391 [00:23<00:00, 16.32it/s]\n"
          ]
        },
        {
          "output_type": "stream",
          "name": "stdout",
          "text": [
            "Test set: Average loss: 0.4505, Accuracy: 8454/10000 (84.54%)\n",
            "\n",
            "Epoch 70\n"
          ]
        },
        {
          "output_type": "stream",
          "name": "stderr",
          "text": [
            "Train: Loss=0.3380 Batch_id=390 Accuracy=83.20: 100%|██████████| 391/391 [00:23<00:00, 16.46it/s]\n"
          ]
        },
        {
          "output_type": "stream",
          "name": "stdout",
          "text": [
            "Test set: Average loss: 0.4450, Accuracy: 8509/10000 (85.09%)\n",
            "\n",
            "Epoch 71\n"
          ]
        },
        {
          "output_type": "stream",
          "name": "stderr",
          "text": [
            "Train: Loss=0.6026 Batch_id=390 Accuracy=82.98: 100%|██████████| 391/391 [00:23<00:00, 16.75it/s]\n"
          ]
        },
        {
          "output_type": "stream",
          "name": "stdout",
          "text": [
            "Test set: Average loss: 0.4625, Accuracy: 8409/10000 (84.09%)\n",
            "\n",
            "Epoch 72\n"
          ]
        },
        {
          "output_type": "stream",
          "name": "stderr",
          "text": [
            "Train: Loss=0.6611 Batch_id=390 Accuracy=83.40: 100%|██████████| 391/391 [00:22<00:00, 17.00it/s]\n"
          ]
        },
        {
          "output_type": "stream",
          "name": "stdout",
          "text": [
            "Test set: Average loss: 0.4661, Accuracy: 8415/10000 (84.15%)\n",
            "\n",
            "Epoch 73\n"
          ]
        },
        {
          "output_type": "stream",
          "name": "stderr",
          "text": [
            "Train: Loss=0.3571 Batch_id=390 Accuracy=83.26: 100%|██████████| 391/391 [00:22<00:00, 17.01it/s]\n"
          ]
        },
        {
          "output_type": "stream",
          "name": "stdout",
          "text": [
            "Test set: Average loss: 0.4601, Accuracy: 8437/10000 (84.37%)\n",
            "\n",
            "Epoch 74\n"
          ]
        },
        {
          "output_type": "stream",
          "name": "stderr",
          "text": [
            "Train: Loss=0.6960 Batch_id=390 Accuracy=83.42: 100%|██████████| 391/391 [00:23<00:00, 16.67it/s]\n"
          ]
        },
        {
          "output_type": "stream",
          "name": "stdout",
          "text": [
            "Test set: Average loss: 0.4681, Accuracy: 8408/10000 (84.08%)\n",
            "\n",
            "Epoch 75\n"
          ]
        },
        {
          "output_type": "stream",
          "name": "stderr",
          "text": [
            "Train: Loss=0.6998 Batch_id=390 Accuracy=83.53: 100%|██████████| 391/391 [00:24<00:00, 16.21it/s]\n"
          ]
        },
        {
          "output_type": "stream",
          "name": "stdout",
          "text": [
            "Test set: Average loss: 0.4516, Accuracy: 8436/10000 (84.36%)\n",
            "\n",
            "Epoch 76\n"
          ]
        },
        {
          "output_type": "stream",
          "name": "stderr",
          "text": [
            "Train: Loss=0.4374 Batch_id=390 Accuracy=83.70: 100%|██████████| 391/391 [00:24<00:00, 16.26it/s]\n"
          ]
        },
        {
          "output_type": "stream",
          "name": "stdout",
          "text": [
            "Test set: Average loss: 0.4453, Accuracy: 8486/10000 (84.86%)\n",
            "\n",
            "Epoch 77\n"
          ]
        },
        {
          "output_type": "stream",
          "name": "stderr",
          "text": [
            "Train: Loss=0.4893 Batch_id=390 Accuracy=83.72: 100%|██████████| 391/391 [00:24<00:00, 16.22it/s]\n"
          ]
        },
        {
          "output_type": "stream",
          "name": "stdout",
          "text": [
            "Test set: Average loss: 0.4409, Accuracy: 8498/10000 (84.98%)\n",
            "\n",
            "Epoch 78\n"
          ]
        },
        {
          "output_type": "stream",
          "name": "stderr",
          "text": [
            "Train: Loss=0.6627 Batch_id=390 Accuracy=83.68: 100%|██████████| 391/391 [00:24<00:00, 16.25it/s]\n"
          ]
        },
        {
          "output_type": "stream",
          "name": "stdout",
          "text": [
            "Test set: Average loss: 0.4391, Accuracy: 8512/10000 (85.12%)\n",
            "\n",
            "Epoch 79\n"
          ]
        },
        {
          "output_type": "stream",
          "name": "stderr",
          "text": [
            "Train: Loss=0.3901 Batch_id=390 Accuracy=83.71: 100%|██████████| 391/391 [00:23<00:00, 16.53it/s]\n"
          ]
        },
        {
          "output_type": "stream",
          "name": "stdout",
          "text": [
            "Test set: Average loss: 0.4422, Accuracy: 8507/10000 (85.07%)\n",
            "\n",
            "Epoch 80\n"
          ]
        },
        {
          "output_type": "stream",
          "name": "stderr",
          "text": [
            "Train: Loss=0.5118 Batch_id=390 Accuracy=83.85: 100%|██████████| 391/391 [00:23<00:00, 16.57it/s]\n"
          ]
        },
        {
          "output_type": "stream",
          "name": "stdout",
          "text": [
            "Test set: Average loss: 0.4604, Accuracy: 8422/10000 (84.22%)\n",
            "\n",
            "Epoch 81\n"
          ]
        },
        {
          "output_type": "stream",
          "name": "stderr",
          "text": [
            "Train: Loss=0.4536 Batch_id=390 Accuracy=83.77: 100%|██████████| 391/391 [00:23<00:00, 16.49it/s]\n"
          ]
        },
        {
          "output_type": "stream",
          "name": "stdout",
          "text": [
            "Test set: Average loss: 0.4363, Accuracy: 8508/10000 (85.08%)\n",
            "\n",
            "Epoch 82\n"
          ]
        },
        {
          "output_type": "stream",
          "name": "stderr",
          "text": [
            "Train: Loss=0.3670 Batch_id=390 Accuracy=84.03: 100%|██████████| 391/391 [00:24<00:00, 16.22it/s]\n"
          ]
        },
        {
          "output_type": "stream",
          "name": "stdout",
          "text": [
            "Test set: Average loss: 0.4285, Accuracy: 8531/10000 (85.31%)\n",
            "\n",
            "Epoch 83\n"
          ]
        },
        {
          "output_type": "stream",
          "name": "stderr",
          "text": [
            "Train: Loss=0.3402 Batch_id=390 Accuracy=84.09: 100%|██████████| 391/391 [00:23<00:00, 16.39it/s]\n"
          ]
        },
        {
          "output_type": "stream",
          "name": "stdout",
          "text": [
            "Test set: Average loss: 0.4289, Accuracy: 8532/10000 (85.32%)\n",
            "\n",
            "Epoch 84\n"
          ]
        },
        {
          "output_type": "stream",
          "name": "stderr",
          "text": [
            "Train: Loss=0.3789 Batch_id=390 Accuracy=83.90: 100%|██████████| 391/391 [00:23<00:00, 16.91it/s]\n"
          ]
        },
        {
          "output_type": "stream",
          "name": "stdout",
          "text": [
            "Test set: Average loss: 0.4386, Accuracy: 8517/10000 (85.17%)\n",
            "\n",
            "Epoch 85\n"
          ]
        },
        {
          "output_type": "stream",
          "name": "stderr",
          "text": [
            "Train: Loss=0.5319 Batch_id=390 Accuracy=83.89: 100%|██████████| 391/391 [00:23<00:00, 16.99it/s]\n"
          ]
        },
        {
          "output_type": "stream",
          "name": "stdout",
          "text": [
            "Test set: Average loss: 0.4277, Accuracy: 8529/10000 (85.29%)\n",
            "\n",
            "Epoch 86\n"
          ]
        },
        {
          "output_type": "stream",
          "name": "stderr",
          "text": [
            "Train: Loss=0.2601 Batch_id=390 Accuracy=83.98: 100%|██████████| 391/391 [00:23<00:00, 16.75it/s]\n"
          ]
        },
        {
          "output_type": "stream",
          "name": "stdout",
          "text": [
            "Test set: Average loss: 0.4379, Accuracy: 8507/10000 (85.07%)\n",
            "\n",
            "Epoch 87\n"
          ]
        },
        {
          "output_type": "stream",
          "name": "stderr",
          "text": [
            "Train: Loss=0.4212 Batch_id=390 Accuracy=83.86: 100%|██████████| 391/391 [00:23<00:00, 16.54it/s]\n"
          ]
        },
        {
          "output_type": "stream",
          "name": "stdout",
          "text": [
            "Test set: Average loss: 0.4384, Accuracy: 8501/10000 (85.01%)\n",
            "\n",
            "Epoch 88\n"
          ]
        },
        {
          "output_type": "stream",
          "name": "stderr",
          "text": [
            "Train: Loss=0.4380 Batch_id=390 Accuracy=84.36: 100%|██████████| 391/391 [00:24<00:00, 16.28it/s]\n"
          ]
        },
        {
          "output_type": "stream",
          "name": "stdout",
          "text": [
            "Test set: Average loss: 0.4362, Accuracy: 8539/10000 (85.39%)\n",
            "\n",
            "Epoch 89\n"
          ]
        },
        {
          "output_type": "stream",
          "name": "stderr",
          "text": [
            "Train: Loss=0.5656 Batch_id=390 Accuracy=84.16: 100%|██████████| 391/391 [00:24<00:00, 16.27it/s]\n"
          ]
        },
        {
          "output_type": "stream",
          "name": "stdout",
          "text": [
            "Test set: Average loss: 0.4357, Accuracy: 8541/10000 (85.41%)\n",
            "\n",
            "Epoch 90\n"
          ]
        },
        {
          "output_type": "stream",
          "name": "stderr",
          "text": [
            "Train: Loss=0.3069 Batch_id=390 Accuracy=84.23: 100%|██████████| 391/391 [00:23<00:00, 16.39it/s]\n"
          ]
        },
        {
          "output_type": "stream",
          "name": "stdout",
          "text": [
            "Test set: Average loss: 0.4399, Accuracy: 8509/10000 (85.09%)\n",
            "\n",
            "Epoch 91\n"
          ]
        },
        {
          "output_type": "stream",
          "name": "stderr",
          "text": [
            "Train: Loss=0.4019 Batch_id=390 Accuracy=84.36: 100%|██████████| 391/391 [00:23<00:00, 16.46it/s]\n"
          ]
        },
        {
          "output_type": "stream",
          "name": "stdout",
          "text": [
            "Test set: Average loss: 0.4262, Accuracy: 8542/10000 (85.42%)\n",
            "\n",
            "Epoch 92\n"
          ]
        },
        {
          "output_type": "stream",
          "name": "stderr",
          "text": [
            "Train: Loss=0.4539 Batch_id=390 Accuracy=84.31: 100%|██████████| 391/391 [00:23<00:00, 16.34it/s]\n"
          ]
        },
        {
          "output_type": "stream",
          "name": "stdout",
          "text": [
            "Test set: Average loss: 0.4392, Accuracy: 8486/10000 (84.86%)\n",
            "\n",
            "Epoch 93\n"
          ]
        },
        {
          "output_type": "stream",
          "name": "stderr",
          "text": [
            "Train: Loss=0.2615 Batch_id=390 Accuracy=84.44: 100%|██████████| 391/391 [00:23<00:00, 16.42it/s]\n"
          ]
        },
        {
          "output_type": "stream",
          "name": "stdout",
          "text": [
            "Test set: Average loss: 0.4371, Accuracy: 8505/10000 (85.05%)\n",
            "\n",
            "Epoch 94\n"
          ]
        },
        {
          "output_type": "stream",
          "name": "stderr",
          "text": [
            "Train: Loss=0.5794 Batch_id=390 Accuracy=84.71: 100%|██████████| 391/391 [00:23<00:00, 16.41it/s]\n"
          ]
        },
        {
          "output_type": "stream",
          "name": "stdout",
          "text": [
            "Test set: Average loss: 0.4232, Accuracy: 8560/10000 (85.60%)\n",
            "\n",
            "Epoch 95\n"
          ]
        },
        {
          "output_type": "stream",
          "name": "stderr",
          "text": [
            "Train: Loss=0.4064 Batch_id=390 Accuracy=84.84: 100%|██████████| 391/391 [00:23<00:00, 16.32it/s]\n"
          ]
        },
        {
          "output_type": "stream",
          "name": "stdout",
          "text": [
            "Test set: Average loss: 0.4289, Accuracy: 8534/10000 (85.34%)\n",
            "\n",
            "Epoch 96\n"
          ]
        },
        {
          "output_type": "stream",
          "name": "stderr",
          "text": [
            "Train: Loss=0.5699 Batch_id=390 Accuracy=84.61: 100%|██████████| 391/391 [00:23<00:00, 16.71it/s]\n"
          ]
        },
        {
          "output_type": "stream",
          "name": "stdout",
          "text": [
            "Test set: Average loss: 0.4371, Accuracy: 8490/10000 (84.90%)\n",
            "\n",
            "Epoch 97\n"
          ]
        },
        {
          "output_type": "stream",
          "name": "stderr",
          "text": [
            "Train: Loss=0.4848 Batch_id=390 Accuracy=84.60: 100%|██████████| 391/391 [00:23<00:00, 16.84it/s]\n"
          ]
        },
        {
          "output_type": "stream",
          "name": "stdout",
          "text": [
            "Test set: Average loss: 0.4367, Accuracy: 8518/10000 (85.18%)\n",
            "\n",
            "Epoch 98\n"
          ]
        },
        {
          "output_type": "stream",
          "name": "stderr",
          "text": [
            "Train: Loss=0.3362 Batch_id=390 Accuracy=84.56: 100%|██████████| 391/391 [00:22<00:00, 17.17it/s]\n"
          ]
        },
        {
          "output_type": "stream",
          "name": "stdout",
          "text": [
            "Test set: Average loss: 0.4255, Accuracy: 8539/10000 (85.39%)\n",
            "\n",
            "Epoch 99\n"
          ]
        },
        {
          "output_type": "stream",
          "name": "stderr",
          "text": [
            "Train: Loss=0.4936 Batch_id=390 Accuracy=84.83: 100%|██████████| 391/391 [00:23<00:00, 16.75it/s]\n"
          ]
        },
        {
          "output_type": "stream",
          "name": "stdout",
          "text": [
            "Test set: Average loss: 0.4228, Accuracy: 8563/10000 (85.63%)\n",
            "\n",
            "Epoch 100\n"
          ]
        },
        {
          "output_type": "stream",
          "name": "stderr",
          "text": [
            "Train: Loss=0.3999 Batch_id=390 Accuracy=84.69: 100%|██████████| 391/391 [00:23<00:00, 16.47it/s]\n"
          ]
        },
        {
          "output_type": "stream",
          "name": "stdout",
          "text": [
            "Test set: Average loss: 0.4382, Accuracy: 8504/10000 (85.04%)\n",
            "\n",
            "Epoch 101\n"
          ]
        },
        {
          "output_type": "stream",
          "name": "stderr",
          "text": [
            "Train: Loss=0.3961 Batch_id=390 Accuracy=84.69: 100%|██████████| 391/391 [00:23<00:00, 16.58it/s]\n"
          ]
        },
        {
          "output_type": "stream",
          "name": "stdout",
          "text": [
            "Test set: Average loss: 0.4225, Accuracy: 8566/10000 (85.66%)\n",
            "\n",
            "Epoch 102\n"
          ]
        },
        {
          "output_type": "stream",
          "name": "stderr",
          "text": [
            "Train: Loss=0.4646 Batch_id=390 Accuracy=84.81: 100%|██████████| 391/391 [00:23<00:00, 16.48it/s]\n"
          ]
        },
        {
          "output_type": "stream",
          "name": "stdout",
          "text": [
            "Test set: Average loss: 0.4167, Accuracy: 8579/10000 (85.79%)\n",
            "\n",
            "Epoch 103\n"
          ]
        },
        {
          "output_type": "stream",
          "name": "stderr",
          "text": [
            "Train: Loss=0.6096 Batch_id=390 Accuracy=84.85: 100%|██████████| 391/391 [00:23<00:00, 16.39it/s]\n"
          ]
        },
        {
          "output_type": "stream",
          "name": "stdout",
          "text": [
            "Test set: Average loss: 0.4160, Accuracy: 8577/10000 (85.77%)\n",
            "\n",
            "Epoch 104\n"
          ]
        },
        {
          "output_type": "stream",
          "name": "stderr",
          "text": [
            "Train: Loss=0.3696 Batch_id=390 Accuracy=85.02: 100%|██████████| 391/391 [00:24<00:00, 16.28it/s]\n"
          ]
        },
        {
          "output_type": "stream",
          "name": "stdout",
          "text": [
            "Test set: Average loss: 0.4196, Accuracy: 8560/10000 (85.60%)\n",
            "\n",
            "Epoch 105\n"
          ]
        },
        {
          "output_type": "stream",
          "name": "stderr",
          "text": [
            "Train: Loss=0.4194 Batch_id=390 Accuracy=84.91: 100%|██████████| 391/391 [00:24<00:00, 16.13it/s]\n"
          ]
        },
        {
          "output_type": "stream",
          "name": "stdout",
          "text": [
            "Test set: Average loss: 0.4180, Accuracy: 8586/10000 (85.86%)\n",
            "\n",
            "Epoch 106\n"
          ]
        },
        {
          "output_type": "stream",
          "name": "stderr",
          "text": [
            "Train: Loss=0.4102 Batch_id=390 Accuracy=85.15: 100%|██████████| 391/391 [00:23<00:00, 16.49it/s]\n"
          ]
        },
        {
          "output_type": "stream",
          "name": "stdout",
          "text": [
            "Test set: Average loss: 0.4319, Accuracy: 8542/10000 (85.42%)\n",
            "\n",
            "Epoch 107\n"
          ]
        },
        {
          "output_type": "stream",
          "name": "stderr",
          "text": [
            "Train: Loss=0.4907 Batch_id=390 Accuracy=84.95: 100%|██████████| 391/391 [00:23<00:00, 16.30it/s]\n"
          ]
        },
        {
          "output_type": "stream",
          "name": "stdout",
          "text": [
            "Test set: Average loss: 0.4113, Accuracy: 8552/10000 (85.52%)\n",
            "\n",
            "Epoch 108\n"
          ]
        },
        {
          "output_type": "stream",
          "name": "stderr",
          "text": [
            "Train: Loss=0.4987 Batch_id=390 Accuracy=85.10: 100%|██████████| 391/391 [00:23<00:00, 16.62it/s]\n"
          ]
        },
        {
          "output_type": "stream",
          "name": "stdout",
          "text": [
            "Test set: Average loss: 0.4179, Accuracy: 8554/10000 (85.54%)\n",
            "\n",
            "Epoch 109\n"
          ]
        },
        {
          "output_type": "stream",
          "name": "stderr",
          "text": [
            "Train: Loss=0.5142 Batch_id=390 Accuracy=85.09: 100%|██████████| 391/391 [00:23<00:00, 16.85it/s]\n"
          ]
        },
        {
          "output_type": "stream",
          "name": "stdout",
          "text": [
            "Test set: Average loss: 0.4222, Accuracy: 8546/10000 (85.46%)\n",
            "\n",
            "Epoch 110\n"
          ]
        },
        {
          "output_type": "stream",
          "name": "stderr",
          "text": [
            "Train: Loss=0.4030 Batch_id=390 Accuracy=85.34: 100%|██████████| 391/391 [00:22<00:00, 17.05it/s]\n"
          ]
        },
        {
          "output_type": "stream",
          "name": "stdout",
          "text": [
            "Test set: Average loss: 0.4053, Accuracy: 8608/10000 (86.08%)\n",
            "\n",
            "Epoch 111\n"
          ]
        },
        {
          "output_type": "stream",
          "name": "stderr",
          "text": [
            "Train: Loss=0.3728 Batch_id=390 Accuracy=85.10: 100%|██████████| 391/391 [00:23<00:00, 16.94it/s]\n"
          ]
        },
        {
          "output_type": "stream",
          "name": "stdout",
          "text": [
            "Test set: Average loss: 0.4197, Accuracy: 8566/10000 (85.66%)\n",
            "\n",
            "Epoch 112\n"
          ]
        },
        {
          "output_type": "stream",
          "name": "stderr",
          "text": [
            "Train: Loss=0.2464 Batch_id=390 Accuracy=85.16: 100%|██████████| 391/391 [00:23<00:00, 16.73it/s]\n"
          ]
        },
        {
          "output_type": "stream",
          "name": "stdout",
          "text": [
            "Test set: Average loss: 0.4304, Accuracy: 8512/10000 (85.12%)\n",
            "\n",
            "Epoch 113\n"
          ]
        },
        {
          "output_type": "stream",
          "name": "stderr",
          "text": [
            "Train: Loss=0.4345 Batch_id=390 Accuracy=85.24: 100%|██████████| 391/391 [00:23<00:00, 16.53it/s]\n"
          ]
        },
        {
          "output_type": "stream",
          "name": "stdout",
          "text": [
            "Test set: Average loss: 0.4176, Accuracy: 8600/10000 (86.00%)\n",
            "\n",
            "Epoch 114\n"
          ]
        },
        {
          "output_type": "stream",
          "name": "stderr",
          "text": [
            "Train: Loss=0.5411 Batch_id=390 Accuracy=85.13: 100%|██████████| 391/391 [00:23<00:00, 16.46it/s]\n"
          ]
        },
        {
          "output_type": "stream",
          "name": "stdout",
          "text": [
            "Test set: Average loss: 0.4226, Accuracy: 8565/10000 (85.65%)\n",
            "\n",
            "Epoch 115\n"
          ]
        },
        {
          "output_type": "stream",
          "name": "stderr",
          "text": [
            "Train: Loss=0.3586 Batch_id=390 Accuracy=85.23: 100%|██████████| 391/391 [00:23<00:00, 16.36it/s]\n"
          ]
        },
        {
          "output_type": "stream",
          "name": "stdout",
          "text": [
            "Test set: Average loss: 0.4095, Accuracy: 8580/10000 (85.80%)\n",
            "\n",
            "Epoch 116\n"
          ]
        },
        {
          "output_type": "stream",
          "name": "stderr",
          "text": [
            "Train: Loss=0.2773 Batch_id=390 Accuracy=85.49: 100%|██████████| 391/391 [00:23<00:00, 16.33it/s]\n"
          ]
        },
        {
          "output_type": "stream",
          "name": "stdout",
          "text": [
            "Test set: Average loss: 0.4114, Accuracy: 8582/10000 (85.82%)\n",
            "\n",
            "Epoch 117\n"
          ]
        },
        {
          "output_type": "stream",
          "name": "stderr",
          "text": [
            "Train: Loss=0.4491 Batch_id=390 Accuracy=85.37: 100%|██████████| 391/391 [00:23<00:00, 16.39it/s]\n"
          ]
        },
        {
          "output_type": "stream",
          "name": "stdout",
          "text": [
            "Test set: Average loss: 0.4063, Accuracy: 8603/10000 (86.03%)\n",
            "\n",
            "Epoch 118\n"
          ]
        },
        {
          "output_type": "stream",
          "name": "stderr",
          "text": [
            "Train: Loss=0.2896 Batch_id=390 Accuracy=85.34: 100%|██████████| 391/391 [00:23<00:00, 16.47it/s]\n"
          ]
        },
        {
          "output_type": "stream",
          "name": "stdout",
          "text": [
            "Test set: Average loss: 0.4057, Accuracy: 8643/10000 (86.43%)\n",
            "\n",
            "Epoch 119\n"
          ]
        },
        {
          "output_type": "stream",
          "name": "stderr",
          "text": [
            "Train: Loss=0.3740 Batch_id=390 Accuracy=85.41: 100%|██████████| 391/391 [00:23<00:00, 16.38it/s]\n"
          ]
        },
        {
          "output_type": "stream",
          "name": "stdout",
          "text": [
            "Test set: Average loss: 0.4170, Accuracy: 8586/10000 (85.86%)\n",
            "\n",
            "Epoch 120\n"
          ]
        },
        {
          "output_type": "stream",
          "name": "stderr",
          "text": [
            "Train: Loss=0.4644 Batch_id=390 Accuracy=85.50: 100%|██████████| 391/391 [00:23<00:00, 16.57it/s]\n"
          ]
        },
        {
          "output_type": "stream",
          "name": "stdout",
          "text": [
            "Test set: Average loss: 0.4192, Accuracy: 8557/10000 (85.57%)\n",
            "\n",
            "Epoch 121\n"
          ]
        },
        {
          "output_type": "stream",
          "name": "stderr",
          "text": [
            "Train: Loss=0.3163 Batch_id=390 Accuracy=85.35: 100%|██████████| 391/391 [00:23<00:00, 16.79it/s]\n"
          ]
        },
        {
          "output_type": "stream",
          "name": "stdout",
          "text": [
            "Test set: Average loss: 0.4141, Accuracy: 8597/10000 (85.97%)\n",
            "\n",
            "Epoch 122\n"
          ]
        },
        {
          "output_type": "stream",
          "name": "stderr",
          "text": [
            "Train: Loss=0.4062 Batch_id=390 Accuracy=85.48: 100%|██████████| 391/391 [00:23<00:00, 16.93it/s]\n"
          ]
        },
        {
          "output_type": "stream",
          "name": "stdout",
          "text": [
            "Test set: Average loss: 0.4084, Accuracy: 8610/10000 (86.10%)\n",
            "\n",
            "Epoch 123\n"
          ]
        },
        {
          "output_type": "stream",
          "name": "stderr",
          "text": [
            "Train: Loss=0.4877 Batch_id=390 Accuracy=85.49: 100%|██████████| 391/391 [00:23<00:00, 16.69it/s]\n"
          ]
        },
        {
          "output_type": "stream",
          "name": "stdout",
          "text": [
            "Test set: Average loss: 0.4215, Accuracy: 8567/10000 (85.67%)\n",
            "\n",
            "Epoch 124\n"
          ]
        },
        {
          "output_type": "stream",
          "name": "stderr",
          "text": [
            "Train: Loss=0.3196 Batch_id=390 Accuracy=85.47: 100%|██████████| 391/391 [00:23<00:00, 16.31it/s]\n"
          ]
        },
        {
          "output_type": "stream",
          "name": "stdout",
          "text": [
            "Test set: Average loss: 0.4063, Accuracy: 8650/10000 (86.50%)\n",
            "\n",
            "Epoch 125\n"
          ]
        },
        {
          "output_type": "stream",
          "name": "stderr",
          "text": [
            "Train: Loss=0.4581 Batch_id=390 Accuracy=85.81: 100%|██████████| 391/391 [00:23<00:00, 16.34it/s]\n"
          ]
        },
        {
          "output_type": "stream",
          "name": "stdout",
          "text": [
            "Test set: Average loss: 0.4161, Accuracy: 8568/10000 (85.68%)\n",
            "\n",
            "Epoch 126\n"
          ]
        },
        {
          "output_type": "stream",
          "name": "stderr",
          "text": [
            "Train: Loss=0.2272 Batch_id=390 Accuracy=85.46: 100%|██████████| 391/391 [00:23<00:00, 16.34it/s]\n"
          ]
        },
        {
          "output_type": "stream",
          "name": "stdout",
          "text": [
            "Test set: Average loss: 0.4061, Accuracy: 8596/10000 (85.96%)\n",
            "\n",
            "Epoch 127\n"
          ]
        },
        {
          "output_type": "stream",
          "name": "stderr",
          "text": [
            "Train: Loss=0.4940 Batch_id=390 Accuracy=85.59: 100%|██████████| 391/391 [00:23<00:00, 16.39it/s]\n"
          ]
        },
        {
          "output_type": "stream",
          "name": "stdout",
          "text": [
            "Test set: Average loss: 0.4230, Accuracy: 8542/10000 (85.42%)\n",
            "\n",
            "Epoch 128\n"
          ]
        },
        {
          "output_type": "stream",
          "name": "stderr",
          "text": [
            "Train: Loss=0.4479 Batch_id=390 Accuracy=85.63: 100%|██████████| 391/391 [00:23<00:00, 16.42it/s]\n"
          ]
        },
        {
          "output_type": "stream",
          "name": "stdout",
          "text": [
            "Test set: Average loss: 0.4120, Accuracy: 8613/10000 (86.13%)\n",
            "\n",
            "Epoch 129\n"
          ]
        },
        {
          "output_type": "stream",
          "name": "stderr",
          "text": [
            "Train: Loss=0.4492 Batch_id=390 Accuracy=85.85: 100%|██████████| 391/391 [00:23<00:00, 16.45it/s]\n"
          ]
        },
        {
          "output_type": "stream",
          "name": "stdout",
          "text": [
            "Test set: Average loss: 0.3988, Accuracy: 8615/10000 (86.15%)\n",
            "\n",
            "Epoch 130\n"
          ]
        },
        {
          "output_type": "stream",
          "name": "stderr",
          "text": [
            "Train: Loss=0.3343 Batch_id=390 Accuracy=85.68: 100%|██████████| 391/391 [00:23<00:00, 16.38it/s]\n"
          ]
        },
        {
          "output_type": "stream",
          "name": "stdout",
          "text": [
            "Test set: Average loss: 0.4035, Accuracy: 8597/10000 (85.97%)\n",
            "\n",
            "Epoch 131\n"
          ]
        },
        {
          "output_type": "stream",
          "name": "stderr",
          "text": [
            "Train: Loss=0.4114 Batch_id=390 Accuracy=85.65: 100%|██████████| 391/391 [00:23<00:00, 16.42it/s]\n"
          ]
        },
        {
          "output_type": "stream",
          "name": "stdout",
          "text": [
            "Test set: Average loss: 0.4063, Accuracy: 8594/10000 (85.94%)\n",
            "\n",
            "Epoch 132\n"
          ]
        },
        {
          "output_type": "stream",
          "name": "stderr",
          "text": [
            "Train: Loss=0.3149 Batch_id=390 Accuracy=85.88: 100%|██████████| 391/391 [00:23<00:00, 16.85it/s]\n"
          ]
        },
        {
          "output_type": "stream",
          "name": "stdout",
          "text": [
            "Test set: Average loss: 0.3926, Accuracy: 8640/10000 (86.40%)\n",
            "\n",
            "Epoch 133\n"
          ]
        },
        {
          "output_type": "stream",
          "name": "stderr",
          "text": [
            "Train: Loss=0.3314 Batch_id=390 Accuracy=85.70: 100%|██████████| 391/391 [00:23<00:00, 16.93it/s]\n"
          ]
        },
        {
          "output_type": "stream",
          "name": "stdout",
          "text": [
            "Test set: Average loss: 0.4074, Accuracy: 8604/10000 (86.04%)\n",
            "\n",
            "Epoch 134\n"
          ]
        },
        {
          "output_type": "stream",
          "name": "stderr",
          "text": [
            "Train: Loss=0.3809 Batch_id=390 Accuracy=85.68: 100%|██████████| 391/391 [00:23<00:00, 16.78it/s]\n"
          ]
        },
        {
          "output_type": "stream",
          "name": "stdout",
          "text": [
            "Test set: Average loss: 0.4083, Accuracy: 8644/10000 (86.44%)\n",
            "\n",
            "Epoch 135\n"
          ]
        },
        {
          "output_type": "stream",
          "name": "stderr",
          "text": [
            "Train: Loss=0.5128 Batch_id=390 Accuracy=86.04: 100%|██████████| 391/391 [00:23<00:00, 16.67it/s]\n"
          ]
        },
        {
          "output_type": "stream",
          "name": "stdout",
          "text": [
            "Test set: Average loss: 0.3953, Accuracy: 8626/10000 (86.26%)\n",
            "\n",
            "Epoch 136\n"
          ]
        },
        {
          "output_type": "stream",
          "name": "stderr",
          "text": [
            "Train: Loss=0.3350 Batch_id=390 Accuracy=85.94: 100%|██████████| 391/391 [00:23<00:00, 16.35it/s]\n"
          ]
        },
        {
          "output_type": "stream",
          "name": "stdout",
          "text": [
            "Test set: Average loss: 0.3950, Accuracy: 8625/10000 (86.25%)\n",
            "\n",
            "Epoch 137\n"
          ]
        },
        {
          "output_type": "stream",
          "name": "stderr",
          "text": [
            "Train: Loss=0.4522 Batch_id=390 Accuracy=85.95: 100%|██████████| 391/391 [00:24<00:00, 16.17it/s]\n"
          ]
        },
        {
          "output_type": "stream",
          "name": "stdout",
          "text": [
            "Test set: Average loss: 0.4020, Accuracy: 8646/10000 (86.46%)\n",
            "\n",
            "Epoch 138\n"
          ]
        },
        {
          "output_type": "stream",
          "name": "stderr",
          "text": [
            "Train: Loss=0.4069 Batch_id=390 Accuracy=85.93: 100%|██████████| 391/391 [00:24<00:00, 16.05it/s]\n"
          ]
        },
        {
          "output_type": "stream",
          "name": "stdout",
          "text": [
            "Test set: Average loss: 0.4046, Accuracy: 8620/10000 (86.20%)\n",
            "\n",
            "Epoch 139\n"
          ]
        },
        {
          "output_type": "stream",
          "name": "stderr",
          "text": [
            "Train: Loss=0.3055 Batch_id=390 Accuracy=85.74: 100%|██████████| 391/391 [00:24<00:00, 16.21it/s]\n"
          ]
        },
        {
          "output_type": "stream",
          "name": "stdout",
          "text": [
            "Test set: Average loss: 0.3985, Accuracy: 8608/10000 (86.08%)\n",
            "\n",
            "Epoch 140\n"
          ]
        },
        {
          "output_type": "stream",
          "name": "stderr",
          "text": [
            "Train: Loss=0.4159 Batch_id=390 Accuracy=86.02: 100%|██████████| 391/391 [00:24<00:00, 16.01it/s]\n"
          ]
        },
        {
          "output_type": "stream",
          "name": "stdout",
          "text": [
            "Test set: Average loss: 0.4060, Accuracy: 8607/10000 (86.07%)\n",
            "\n",
            "Epoch 141\n"
          ]
        },
        {
          "output_type": "stream",
          "name": "stderr",
          "text": [
            "Train: Loss=0.3268 Batch_id=390 Accuracy=85.80: 100%|██████████| 391/391 [00:24<00:00, 16.29it/s]\n"
          ]
        },
        {
          "output_type": "stream",
          "name": "stdout",
          "text": [
            "Test set: Average loss: 0.3940, Accuracy: 8636/10000 (86.36%)\n",
            "\n",
            "Epoch 142\n"
          ]
        },
        {
          "output_type": "stream",
          "name": "stderr",
          "text": [
            "Train: Loss=0.2785 Batch_id=390 Accuracy=85.94: 100%|██████████| 391/391 [00:23<00:00, 16.46it/s]\n"
          ]
        },
        {
          "output_type": "stream",
          "name": "stdout",
          "text": [
            "Test set: Average loss: 0.4011, Accuracy: 8645/10000 (86.45%)\n",
            "\n",
            "Epoch 143\n"
          ]
        },
        {
          "output_type": "stream",
          "name": "stderr",
          "text": [
            "Train: Loss=0.3997 Batch_id=390 Accuracy=85.89: 100%|██████████| 391/391 [00:23<00:00, 16.35it/s]\n"
          ]
        },
        {
          "output_type": "stream",
          "name": "stdout",
          "text": [
            "Test set: Average loss: 0.3886, Accuracy: 8646/10000 (86.46%)\n",
            "\n",
            "Epoch 144\n"
          ]
        },
        {
          "output_type": "stream",
          "name": "stderr",
          "text": [
            "Train: Loss=0.6373 Batch_id=390 Accuracy=85.95: 100%|██████████| 391/391 [00:23<00:00, 16.72it/s]\n"
          ]
        },
        {
          "output_type": "stream",
          "name": "stdout",
          "text": [
            "Test set: Average loss: 0.3962, Accuracy: 8625/10000 (86.25%)\n",
            "\n",
            "Epoch 145\n"
          ]
        },
        {
          "output_type": "stream",
          "name": "stderr",
          "text": [
            "Train: Loss=0.3529 Batch_id=390 Accuracy=86.07: 100%|██████████| 391/391 [00:23<00:00, 16.89it/s]\n"
          ]
        },
        {
          "output_type": "stream",
          "name": "stdout",
          "text": [
            "Test set: Average loss: 0.3890, Accuracy: 8664/10000 (86.64%)\n",
            "\n",
            "Epoch 146\n"
          ]
        },
        {
          "output_type": "stream",
          "name": "stderr",
          "text": [
            "Train: Loss=0.3529 Batch_id=390 Accuracy=86.19: 100%|██████████| 391/391 [00:23<00:00, 16.81it/s]\n"
          ]
        },
        {
          "output_type": "stream",
          "name": "stdout",
          "text": [
            "Test set: Average loss: 0.4102, Accuracy: 8588/10000 (85.88%)\n",
            "\n",
            "Epoch 147\n"
          ]
        },
        {
          "output_type": "stream",
          "name": "stderr",
          "text": [
            "Train: Loss=0.3549 Batch_id=390 Accuracy=85.93: 100%|██████████| 391/391 [00:23<00:00, 16.80it/s]\n"
          ]
        },
        {
          "output_type": "stream",
          "name": "stdout",
          "text": [
            "Test set: Average loss: 0.3926, Accuracy: 8639/10000 (86.39%)\n",
            "\n",
            "Epoch 148\n"
          ]
        },
        {
          "output_type": "stream",
          "name": "stderr",
          "text": [
            "Train: Loss=0.2918 Batch_id=390 Accuracy=86.19: 100%|██████████| 391/391 [00:23<00:00, 16.44it/s]\n"
          ]
        },
        {
          "output_type": "stream",
          "name": "stdout",
          "text": [
            "Test set: Average loss: 0.3897, Accuracy: 8678/10000 (86.78%)\n",
            "\n",
            "Epoch 149\n"
          ]
        },
        {
          "output_type": "stream",
          "name": "stderr",
          "text": [
            "Train: Loss=0.2905 Batch_id=390 Accuracy=86.12: 100%|██████████| 391/391 [00:23<00:00, 16.36it/s]\n"
          ]
        },
        {
          "output_type": "stream",
          "name": "stdout",
          "text": [
            "Test set: Average loss: 0.3902, Accuracy: 8648/10000 (86.48%)\n",
            "\n"
          ]
        }
      ]
    },
    {
      "cell_type": "code",
      "source": [
        "# Cell 10: Display Training Results (No Retraining)\n",
        "\n",
        "def display_training_results():\n",
        "    \"\"\"\n",
        "    Display the training results from already completed training\n",
        "    Uses the global lists that were populated during training\n",
        "    \"\"\"\n",
        "\n",
        "    # Use the existing global lists\n",
        "    global train_losses, test_losses, train_acc, test_acc\n",
        "\n",
        "    # Create history dictionary from existing data\n",
        "    history = {\n",
        "        'train_loss': train_losses,\n",
        "        'train_acc': train_acc,\n",
        "        'test_loss': test_losses,\n",
        "        'test_acc': test_acc\n",
        "    }\n",
        "\n",
        "    # Find best accuracy\n",
        "    best_acc = max(test_acc) if test_acc else 0\n",
        "    best_epoch = test_acc.index(best_acc) + 1 if test_acc else 0\n",
        "\n",
        "    print(\"=\"*70)\n",
        "    print(\"TRAINING LOG SUMMARY\")\n",
        "    print(\"=\"*70)\n",
        "    print(f\"{'Epoch':<6} | {'Train Loss':<11} | {'Train Acc':<10} | {'Test Loss':<10} | {'Test Acc':<10}\")\n",
        "    print(\"-\"*70)\n",
        "\n",
        "    # Display results for each epoch\n",
        "    num_epochs = len(train_acc)\n",
        "    for epoch in range(1, num_epochs + 1):\n",
        "        idx = epoch - 1\n",
        "        train_loss = train_losses[idx] if idx < len(train_losses) else 0\n",
        "        train_accuracy = train_acc[idx] if idx < len(train_acc) else 0\n",
        "        test_loss = test_losses[idx] if idx < len(test_losses) else 0\n",
        "        test_accuracy = test_acc[idx] if idx < len(test_acc) else 0\n",
        "\n",
        "        print(f\"{epoch:<6} | {train_loss:<11.4f} | {train_accuracy:<10.2f} | {test_loss:<10.4f} | {test_accuracy:<10.2f}\", end=\"\")\n",
        "\n",
        "        if test_accuracy == best_acc:\n",
        "            print(\" ⭐ Best!\")\n",
        "        else:\n",
        "            print()\n",
        "\n",
        "        # Show if target was reached\n",
        "        if test_accuracy >= 85.0:\n",
        "            print(f\"\\n🎉 Target accuracy of 85% reached at epoch {epoch}!\")\n",
        "            break\n",
        "\n",
        "    print(\"-\"*70)\n",
        "    print(f\"Training Summary:\")\n",
        "    print(f\"  Total Epochs: {num_epochs}\")\n",
        "    print(f\"  Best Test Accuracy: {best_acc:.2f}% (Epoch {best_epoch})\")\n",
        "    print(f\"  Final Train Accuracy: {train_acc[-1]:.2f}%\")\n",
        "    print(f\"  Final Test Accuracy: {test_acc[-1]:.2f}%\")\n",
        "    print(\"=\"*70)\n",
        "\n",
        "    return history\n",
        "\n",
        "# Display the existing training results\n",
        "history = display_training_results()"
      ],
      "metadata": {
        "colab": {
          "base_uri": "https://localhost:8080/"
        },
        "id": "dO8rGRiPu7lV",
        "outputId": "308f0f03-3809-4498-b046-0646189efacd"
      },
      "execution_count": 32,
      "outputs": [
        {
          "output_type": "stream",
          "name": "stdout",
          "text": [
            "======================================================================\n",
            "TRAINING LOG SUMMARY\n",
            "======================================================================\n",
            "Epoch  | Train Loss  | Train Acc  | Test Loss  | Test Acc  \n",
            "----------------------------------------------------------------------\n",
            "1      | 1.8711      | 27.94      | 1.5054     | 43.48     \n",
            "2      | 1.8260      | 29.48      | 1.2365     | 54.49     \n",
            "3      | 1.4403      | 46.83      | 1.1166     | 59.55     \n",
            "4      | 1.2573      | 54.19      | 1.0620     | 62.12     \n",
            "5      | 1.1454      | 58.57      | 0.9143     | 67.63     \n",
            "6      | 1.0590      | 61.80      | 0.8912     | 68.37     \n",
            "7      | 1.0008      | 64.03      | 0.8903     | 68.25     \n",
            "8      | 0.9515      | 65.86      | 0.8322     | 70.42     \n",
            "9      | 0.9117      | 67.35      | 0.7726     | 73.11     \n",
            "10     | 0.8774      | 68.94      | 0.7393     | 74.01     \n",
            "11     | 0.8478      | 69.92      | 0.7179     | 74.90     \n",
            "12     | 0.8216      | 71.01      | 0.6948     | 75.62     \n",
            "13     | 0.7982      | 71.95      | 0.6933     | 75.75     \n",
            "14     | 0.7833      | 72.36      | 0.6707     | 76.30     \n",
            "15     | 0.7645      | 73.32      | 0.6544     | 77.38     \n",
            "16     | 0.7520      | 73.77      | 0.6516     | 77.76     \n",
            "17     | 0.7368      | 74.12      | 0.6632     | 76.77     \n",
            "18     | 0.7215      | 74.50      | 0.6511     | 77.69     \n",
            "19     | 0.7129      | 74.94      | 0.6429     | 77.70     \n",
            "20     | 0.7016      | 75.43      | 0.6025     | 79.12     \n",
            "21     | 0.6889      | 75.91      | 0.5994     | 79.20     \n",
            "22     | 0.6832      | 76.13      | 0.6004     | 79.27     \n",
            "23     | 0.6748      | 76.63      | 0.5865     | 79.65     \n",
            "24     | 0.6613      | 76.82      | 0.5887     | 79.69     \n",
            "25     | 0.6516      | 77.16      | 0.5725     | 80.05     \n",
            "26     | 0.6480      | 77.53      | 0.5640     | 80.65     \n",
            "27     | 0.6368      | 77.77      | 0.5767     | 79.75     \n",
            "28     | 0.6354      | 77.85      | 0.5619     | 80.55     \n",
            "29     | 0.6286      | 78.01      | 0.5468     | 81.24     \n",
            "30     | 0.6256      | 78.10      | 0.5501     | 80.95     \n",
            "31     | 0.6209      | 78.30      | 0.5410     | 81.35     \n",
            "32     | 0.6122      | 78.62      | 0.5459     | 81.21     \n",
            "33     | 0.6041      | 79.04      | 0.5390     | 81.66     \n",
            "34     | 0.6051      | 78.84      | 0.5472     | 81.29     \n",
            "35     | 0.5960      | 79.46      | 0.5333     | 81.91     \n",
            "36     | 0.5887      | 79.18      | 0.5320     | 81.75     \n",
            "37     | 0.5914      | 79.36      | 0.5148     | 82.50     \n",
            "38     | 0.5844      | 79.68      | 0.5216     | 82.23     \n",
            "39     | 0.5778      | 79.86      | 0.5326     | 81.83     \n",
            "40     | 0.5723      | 80.04      | 0.5433     | 81.44     \n",
            "41     | 0.5753      | 79.99      | 0.5203     | 82.14     \n",
            "42     | 0.5710      | 80.11      | 0.5067     | 82.73     \n",
            "43     | 0.5587      | 80.52      | 0.5164     | 82.54     \n",
            "44     | 0.5587      | 80.53      | 0.4986     | 83.16     \n",
            "45     | 0.5593      | 80.60      | 0.4973     | 83.15     \n",
            "46     | 0.5527      | 80.60      | 0.5072     | 82.97     \n",
            "47     | 0.5486      | 81.03      | 0.4953     | 83.08     \n",
            "48     | 0.5472      | 80.90      | 0.4988     | 83.26     \n",
            "49     | 0.5423      | 81.18      | 0.5111     | 82.59     \n",
            "50     | 0.5366      | 81.24      | 0.5186     | 82.79     \n",
            "51     | 0.5392      | 81.33      | 0.5027     | 82.98     \n",
            "52     | 0.5325      | 81.52      | 0.4841     | 83.65     \n",
            "53     | 0.5256      | 81.67      | 0.4897     | 83.59     \n",
            "54     | 0.5273      | 81.60      | 0.4779     | 83.78     \n",
            "55     | 0.5294      | 81.45      | 0.4864     | 83.54     \n",
            "56     | 0.5270      | 81.45      | 0.4784     | 83.90     \n",
            "57     | 0.5179      | 82.08      | 0.4782     | 83.93     \n",
            "58     | 0.5197      | 81.92      | 0.4620     | 84.47     \n",
            "59     | 0.5156      | 81.94      | 0.4847     | 83.47     \n",
            "60     | 0.5130      | 82.03      | 0.4708     | 84.05     \n",
            "61     | 0.5154      | 82.01      | 0.4717     | 83.97     \n",
            "62     | 0.5093      | 82.18      | 0.4674     | 84.43     \n",
            "63     | 0.5086      | 82.25      | 0.4648     | 84.39     \n",
            "64     | 0.5037      | 82.30      | 0.4900     | 83.41     \n",
            "65     | 0.5073      | 82.46      | 0.4677     | 84.00     \n",
            "66     | 0.5013      | 82.45      | 0.4643     | 84.37     \n",
            "67     | 0.4961      | 82.92      | 0.4520     | 84.66     \n",
            "68     | 0.4972      | 82.75      | 0.4645     | 84.01     \n",
            "69     | 0.4885      | 82.99      | 0.4573     | 84.66     \n",
            "70     | 0.4926      | 82.85      | 0.4589     | 84.50     \n",
            "71     | 0.4901      | 82.72      | 0.4549     | 84.54     \n",
            "72     | 0.4871      | 83.02      | 0.4623     | 84.07     \n",
            "73     | 0.4852      | 83.05      | 0.4681     | 83.98     \n",
            "74     | 0.4879      | 82.92      | 0.4470     | 84.85     \n",
            "75     | 0.4849      | 83.12      | 0.4531     | 84.36     \n",
            "76     | 0.4807      | 83.21      | 0.4514     | 84.34     \n",
            "77     | 0.4830      | 83.09      | 0.4483     | 84.89     \n",
            "78     | 0.4775      | 83.30      | 0.4530     | 84.78     \n",
            "79     | 0.4778      | 83.39      | 0.4618     | 84.27     \n",
            "80     | 0.4799      | 83.19      | 0.4496     | 84.82     \n",
            "81     | 0.4721      | 83.55      | 0.4515     | 84.50     \n",
            "82     | 0.4733      | 83.55      | 0.4551     | 84.50     \n",
            "83     | 0.4712      | 83.65      | 0.4700     | 84.08     \n",
            "84     | 0.4651      | 83.78      | 0.4464     | 84.62     \n",
            "85     | 0.4685      | 83.59      | 0.4541     | 84.54     \n",
            "86     | 0.4610      | 84.07      | 0.4342     | 85.16     \n",
            "\n",
            "🎉 Target accuracy of 85% reached at epoch 86!\n",
            "----------------------------------------------------------------------\n",
            "Training Summary:\n",
            "  Total Epochs: 312\n",
            "  Best Test Accuracy: 86.78% (Epoch 310)\n",
            "  Final Train Accuracy: 86.12%\n",
            "  Final Test Accuracy: 86.48%\n",
            "======================================================================\n"
          ]
        }
      ]
    },
    {
      "cell_type": "code",
      "source": [
        "import matplotlib.pyplot as plt\n",
        "\n",
        "fig, (ax1, ax2) = plt.subplots(1, 2, figsize=(15, 5))\n",
        "\n",
        "# Loss plot\n",
        "ax1.plot(train_losses, label='Train Loss')\n",
        "ax1.plot(test_losses, label='Test Loss')\n",
        "ax1.set_xlabel('Epoch')\n",
        "ax1.set_ylabel('Loss')\n",
        "ax1.set_title('Training and Test Loss')\n",
        "ax1.legend()\n",
        "ax1.grid(True)\n",
        "\n",
        "# Accuracy plot\n",
        "ax2.plot(train_acc, label='Train Accuracy')\n",
        "ax2.plot(test_acc, label='Test Accuracy')\n",
        "ax2.axhline(y=85, color='r', linestyle='--', label='Target (85%)')\n",
        "ax2.set_xlabel('Epoch')\n",
        "ax2.set_ylabel('Accuracy (%)')\n",
        "ax2.set_title('Training and Test Accuracy')\n",
        "ax2.legend()\n",
        "ax2.grid(True)\n",
        "\n",
        "plt.tight_layout()\n",
        "plt.show()\n",
        "\n",
        "print(f'Best Test Accuracy: {max(test_acc):.2f}%')"
      ],
      "metadata": {
        "colab": {
          "base_uri": "https://localhost:8080/",
          "height": 444
        },
        "id": "uioG7elzu7zB",
        "outputId": "4dc852ab-dc7b-4e8d-d45d-451cf01a51fa"
      },
      "execution_count": 33,
      "outputs": [
        {
          "output_type": "display_data",
          "data": {
            "text/plain": [
              "<Figure size 1500x500 with 2 Axes>"
            ],
            "image/png": "[encoded data removed]"
          },
          "metadata": {}
        },
        {
          "output_type": "stream",
          "name": "stdout",
          "text": [
            "Best Test Accuracy: 86.78%\n"
          ]
        }
      ]
    },
    {
      "cell_type": "code",
      "source": [
        "# Quick check all requirements\n",
        "print(\"=\"*50)\n",
        "print(\"ASSIGNMENT REQUIREMENTS CHECK\")\n",
        "print(\"=\"*50)\n",
        "print(f\"✅ C1C2C3C4 structure: YES\")\n",
        "print(f\"✅ No MaxPooling: YES (using stride=2)\")\n",
        "print(f\"✅ Depthwise Separable Conv: YES (in C2)\")\n",
        "print(f\"✅ Dilated Convolution: YES (in C3 & C4)\")\n",
        "print(f\"✅ GAP before FC: YES\")\n",
        "print(f\"✅ Total RF > 44: YES (~55)\")\n",
        "print(f\"✅ Parameters < 200k: {total_params < 200000}\")\n",
        "print(f\"✅ Albumentations: YES (in dataset.py)\")\n",
        "print(f\"✅ 200 bonus points: YES (dilated instead of MaxPool)\")\n",
        "print(\"=\"*50)"
      ],
      "metadata": {
        "colab": {
          "base_uri": "https://localhost:8080/"
        },
        "id": "s9DLIqTBu78L",
        "outputId": "52e165f9-8a31-46f4-b1e8-1636c85b3b1c"
      },
      "execution_count": 34,
      "outputs": [
        {
          "output_type": "stream",
          "name": "stdout",
          "text": [
            "==================================================\n",
            "ASSIGNMENT REQUIREMENTS CHECK\n",
            "==================================================\n",
            "✅ C1C2C3C4 structure: YES\n",
            "✅ No MaxPooling: YES (using stride=2)\n",
            "✅ Depthwise Separable Conv: YES (in C2)\n",
            "✅ Dilated Convolution: YES (in C3 & C4)\n",
            "✅ GAP before FC: YES\n",
            "✅ Total RF > 44: YES (~55)\n",
            "✅ Parameters < 200k: True\n",
            "✅ Albumentations: YES (in dataset.py)\n",
            "✅ 200 bonus points: YES (dilated instead of MaxPool)\n",
            "==================================================\n"
          ]
        }
      ]
    }
  ]
}